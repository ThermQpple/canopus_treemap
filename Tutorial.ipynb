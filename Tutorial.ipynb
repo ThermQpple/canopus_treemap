{
 "cells": [
  {
   "cell_type": "markdown",
   "metadata": {},
   "source": [
    "# Introduction \n",
    "This is an example of a CANOPUS notebook for visualizing and analyzing compound classes.\n",
    "\n",
    "First we have to load the canopus package. I wrapped all important stuff into the Canopus class, so the easiest way to work with that (and a somewhat stable api) is to use just this single class.\n",
    "\n",
    "I also increase the default figure size of matplotlib, just for the case that your default rc parameters are as bad as mine."
   ]
  },
  {
   "cell_type": "code",
   "execution_count": 1,
   "metadata": {},
   "outputs": [],
   "source": [
    "import canopus\n",
    "from canopus import Canopus\n",
    "import matplotlib.pyplot as plt\n",
    "import seaborn as sbn\n",
    "sbn.set_context(\"notebook\")\n",
    "%matplotlib inline\n",
    "plt.rc(\"figure\", figsize=(14,5))"
   ]
  },
  {
   "cell_type": "markdown",
   "metadata": {},
   "source": [
    "# Processing the data\n",
    "\n",
    "We will demonstrate the whole processing on a small example of the rosmarine dataset from https://massive.ucsd.edu/ProteoSAFe/dataset.jsp?task=9a75f69f0f33460293ee3928361ab836.\n",
    "\n",
    "1. Download all mzml files via ftp download from the Massive dataset. We store the mzml files in the directory rosmarin_mzml\n",
    "2. Process the data with the SIRIUS 4.4\n",
    "\n",
    "`sirius -i rosmarin_mzml -o sirius_rosmarin --maxmz=800 lcms-align sirius zodiac fingerid canopus`\n",
    "- The `--maxmz` option restricts the input data to small compounds. Instead of 800 you can also use smaller or larger values, but computing time of SIRIUS increase exponentially with the mass of the compounds.\n",
    "- The `lcms-align` option is only necessary if you have multiple LCMS-runs and you want to align them\n",
    "- This will take some time, but in the end you get the results written into the sirius_rosmarin folder\n",
    "\n",
    "\n",
    "3. Now we want to process the same data with GNPS. Currently, there is no GNPS output in SIRIUS (I will add that later) but you can use the following ruby script to compute the gnps.mgf and gnps_quant.csv file which are necessary to do feature based molecular networking: https://github.com/kaibioinfo/canopus_treemap/blob/master/tognps.rb\n",
    "\n",
    "`ruby tognps.rb sirius_rosmarin`\n",
    "4. You can now upload the mgf and csv file to GNPS and start molecular networking. Download the molecular networking data and extract the archive into a directory with name gnps_rosmarin\n",
    "\n",
    "Now we can start with the Jupyter notebook analysis. We initialize the Canopus object with the name of the SIRIUS and GNPS folders. I use the short variable name C, because we will use this variable a lot.\n"
   ]
  },
  {
   "cell_type": "code",
   "execution_count": 2,
   "metadata": {},
   "outputs": [],
   "source": [
    "C = Canopus(sirius=\"sirius_rosmarin\", gnps=\"rosmarin_gnps\")"
   ]
  },
  {
   "cell_type": "markdown",
   "metadata": {},
   "source": [
    "# CANOPUS data analysis\n",
    "\n",
    "## Defining the metadata\n",
    "\n",
    "The dataset consists of samples and features. The samples can be usually organized in several groups. We call these groups \"conditions\", but they can be treatments, several tissues, organs, different species and so on. We will first tell CANOPUS which conditions in your data exist and how you can map these conditions to the file names of the samples.\n",
    "\n",
    "The defineCondition method gets three parameters: first the name of the condition, then a regular expression to detect the filenames of samples having this condition, and finally a color which should be used for this condition in plots. We can leave out the second and third parameter: without a regular expression, all filenames containing the condition name as substring belong automatically to this condition and the color is given automatically, too."
   ]
  },
  {
   "cell_type": "code",
   "execution_count": 3,
   "metadata": {},
   "outputs": [],
   "source": [
    "C.defineCondition(\"Leave\", \".*_Leave.*\", \"brown\")\n",
    "# we can also leave out parameters\n",
    "C.defineCondition(\"Flower\", color=\"steelblue\")\n",
    "C.defineCondition(\"Stem\");"
   ]
  },
  {
   "cell_type": "markdown",
   "metadata": {},
   "source": [
    "To check if we did something wrong, we can output the list of files belonging to a condition"
   ]
  },
  {
   "cell_type": "code",
   "execution_count": 4,
   "metadata": {},
   "outputs": [
    {
     "data": {
      "text/plain": [
       "['1BC6_Z6_Flower1_Rosumarinus_BC6_01_26670',\n",
       " '1BB12_Z5_Flower1_Rosumarinus_BB12_01_26663',\n",
       " '1BB6_Z4_Flower1_Rosumarinus_BB6_01_26652',\n",
       " '1BC1_Z5_Flower2_Rosumarinus_BC1_01_26664',\n",
       " '1BC7_Z6_Flower2_Rosumarinus_BC7_01_26671',\n",
       " '1BB7_Z4_Flower2_Rosumarinus_BB7_01_26653']"
      ]
     },
     "execution_count": 4,
     "metadata": {},
     "output_type": "execute_result"
    }
   ],
   "source": [
    "C.condition(\"Flower\").samples"
   ]
  },
  {
   "cell_type": "markdown",
   "metadata": {},
   "source": [
    "## Displaying single compounds\n",
    "\n",
    "Each feature (or compound) has an ID which is a string (although it is usually numerical). We can list all compounds with the following:"
   ]
  },
  {
   "cell_type": "code",
   "execution_count": 5,
   "metadata": {},
   "outputs": [
    {
     "data": {
      "text/plain": [
       "Index(['11', '12', '15', '16', '18', '19', '20', '21', '22', '23',\n",
       "       ...\n",
       "       '922', '923', '924', '925', '926', '928', '929', '931', '932', '933'],\n",
       "      dtype='object', length=576)"
      ]
     },
     "execution_count": 5,
     "metadata": {},
     "output_type": "execute_result"
    }
   ],
   "source": [
    "C.compounds"
   ]
  },
  {
   "cell_type": "markdown",
   "metadata": {},
   "source": [
    "If we want to know more about a certain compound, we can use the *featureHeader* method which just tells us the molecular formula identification of the feature, its adduct as well as its ZODIAC score."
   ]
  },
  {
   "cell_type": "code",
   "execution_count": 6,
   "metadata": {},
   "outputs": [
    {
     "data": {
      "text/html": [
       "<h3>C<sub>13</sub>H<sub>18</sub>N<sub>2</sub>O<sub>3</sub> ([M+H]+)</h3><br />Zodiac Score: 97<br />Feature-ID: 11"
      ],
      "text/plain": [
       "<IPython.core.display.HTML object>"
      ]
     },
     "metadata": {},
     "output_type": "display_data"
    }
   ],
   "source": [
    "C.featureHeader(\"11\")"
   ]
  },
  {
   "cell_type": "markdown",
   "metadata": {},
   "source": [
    "With gnpsHit we get the result of the GNPS database search for this hit."
   ]
  },
  {
   "cell_type": "code",
   "execution_count": 7,
   "metadata": {},
   "outputs": [
    {
     "data": {
      "text/html": [
       "<div>\n",
       "<style scoped>\n",
       "    .dataframe tbody tr th:only-of-type {\n",
       "        vertical-align: middle;\n",
       "    }\n",
       "\n",
       "    .dataframe tbody tr th {\n",
       "        vertical-align: top;\n",
       "    }\n",
       "\n",
       "    .dataframe thead th {\n",
       "        text-align: right;\n",
       "    }\n",
       "</style>\n",
       "<table border=\"1\" class=\"dataframe\">\n",
       "  <thead>\n",
       "    <tr style=\"text-align: right;\">\n",
       "      <th></th>\n",
       "      <th>#Scan#</th>\n",
       "      <th>Adduct</th>\n",
       "      <th>CAS_Number</th>\n",
       "      <th>Charge</th>\n",
       "      <th>Compound_Name</th>\n",
       "      <th>Compound_Source</th>\n",
       "      <th>Data_Collector</th>\n",
       "      <th>ExactMass</th>\n",
       "      <th>FileScanUniqueID</th>\n",
       "      <th>INCHI</th>\n",
       "      <th>...</th>\n",
       "      <th>RT_Query</th>\n",
       "      <th>SharedPeaks</th>\n",
       "      <th>Smiles</th>\n",
       "      <th>SpecCharge</th>\n",
       "      <th>SpecMZ</th>\n",
       "      <th>SpectrumFile</th>\n",
       "      <th>SpectrumID</th>\n",
       "      <th>TIC_Query</th>\n",
       "      <th>UpdateWorkflowName</th>\n",
       "      <th>tags</th>\n",
       "    </tr>\n",
       "  </thead>\n",
       "  <tbody>\n",
       "    <tr>\n",
       "      <th>0</th>\n",
       "      <td>112</td>\n",
       "      <td>M+H-C9H10O5</td>\n",
       "      <td>20283925</td>\n",
       "      <td>1</td>\n",
       "      <td>Spectral Match to Rosmarinic acid from NIST14</td>\n",
       "      <td>Isolated</td>\n",
       "      <td>Data deposited by lfnothias</td>\n",
       "      <td>0.0</td>\n",
       "      <td>spectra/specs_ms.mgf112</td>\n",
       "      <td>NaN</td>\n",
       "      <td>...</td>\n",
       "      <td>0</td>\n",
       "      <td>6</td>\n",
       "      <td>NaN</td>\n",
       "      <td>1</td>\n",
       "      <td>163.039</td>\n",
       "      <td>spectra/specs_ms.mgf</td>\n",
       "      <td>CCMSLIB00003139124</td>\n",
       "      <td>162672.0</td>\n",
       "      <td>UPDATE-SINGLE-ANNOTATED-BRONZE</td>\n",
       "      <td></td>\n",
       "    </tr>\n",
       "  </tbody>\n",
       "</table>\n",
       "<p>1 rows × 36 columns</p>\n",
       "</div>"
      ],
      "text/plain": [
       "   #Scan#       Adduct CAS_Number  Charge  \\\n",
       "0     112  M+H-C9H10O5   20283925       1   \n",
       "\n",
       "                                   Compound_Name Compound_Source  \\\n",
       "0  Spectral Match to Rosmarinic acid from NIST14        Isolated   \n",
       "\n",
       "                Data_Collector  ExactMass         FileScanUniqueID INCHI  ...  \\\n",
       "0  Data deposited by lfnothias        0.0  spectra/specs_ms.mgf112   NaN  ...   \n",
       "\n",
       "  RT_Query SharedPeaks Smiles SpecCharge   SpecMZ          SpectrumFile  \\\n",
       "0        0           6    NaN          1  163.039  spectra/specs_ms.mgf   \n",
       "\n",
       "           SpectrumID  TIC_Query              UpdateWorkflowName  tags  \n",
       "0  CCMSLIB00003139124   162672.0  UPDATE-SINGLE-ANNOTATED-BRONZE        \n",
       "\n",
       "[1 rows x 36 columns]"
      ]
     },
     "metadata": {},
     "output_type": "display_data"
    }
   ],
   "source": [
    "C.gnpsHit(\"112\");"
   ]
  },
  {
   "cell_type": "markdown",
   "metadata": {},
   "source": [
    "With identification we get the CSI annotation for this hit."
   ]
  },
  {
   "cell_type": "code",
   "execution_count": 8,
   "metadata": {},
   "outputs": [
    {
     "data": {
      "text/html": [
       "<div>\n",
       "<style scoped>\n",
       "    .dataframe tbody tr th:only-of-type {\n",
       "        vertical-align: middle;\n",
       "    }\n",
       "\n",
       "    .dataframe tbody tr th {\n",
       "        vertical-align: top;\n",
       "    }\n",
       "\n",
       "    .dataframe thead th {\n",
       "        text-align: right;\n",
       "    }\n",
       "</style>\n",
       "<table border=\"1\" class=\"dataframe\">\n",
       "  <thead>\n",
       "    <tr style=\"text-align: right;\">\n",
       "      <th></th>\n",
       "      <th>rank</th>\n",
       "      <th>formulaRank</th>\n",
       "      <th>CSI:FingerID_Score</th>\n",
       "      <th>molecularFormula</th>\n",
       "      <th>adduct</th>\n",
       "      <th>InChIkey2D</th>\n",
       "      <th>InChI</th>\n",
       "      <th>name</th>\n",
       "      <th>smiles</th>\n",
       "      <th>xlogp</th>\n",
       "      <th>pubchemids</th>\n",
       "      <th>links</th>\n",
       "      <th>dbflags</th>\n",
       "    </tr>\n",
       "  </thead>\n",
       "  <tbody>\n",
       "    <tr>\n",
       "      <th>0</th>\n",
       "      <td>1</td>\n",
       "      <td>1</td>\n",
       "      <td>-162.360250</td>\n",
       "      <td>C9H6O3</td>\n",
       "      <td>[M + H]+</td>\n",
       "      <td>VYVSCBZOSRUQCZ</td>\n",
       "      <td>InChI=1S/C9H6O3/c10-8-4-2-1-3-7(8)5-6-9(11)12/...</td>\n",
       "      <td>2-Propynoic acid, 3-(2-hydroxyphenyl)-</td>\n",
       "      <td>C1=CC=C(C(=C1)C#CC(=O)O)O</td>\n",
       "      <td>NaN</td>\n",
       "      <td>10855783</td>\n",
       "      <td>PubChem:(10855783);PubMed:(null)</td>\n",
       "      <td>194</td>\n",
       "    </tr>\n",
       "    <tr>\n",
       "      <th>1</th>\n",
       "      <td>2</td>\n",
       "      <td>1</td>\n",
       "      <td>-179.542187</td>\n",
       "      <td>C9H6O3</td>\n",
       "      <td>[M + H]+</td>\n",
       "      <td>ORHBXUUXSCNDEV</td>\n",
       "      <td>InChI=1S/C9H6O3/c10-7-3-1-6-2-4-9(11)12-8(6)5-...</td>\n",
       "      <td>Hydrangin</td>\n",
       "      <td>C1=CC(=CC2=C1C=CC(=O)O2)O</td>\n",
       "      <td>NaN</td>\n",
       "      <td>5281426;45358955;46781768;57369215;57981635</td>\n",
       "      <td>HMDB:(29865);ZINC bio:(ZINC00058111);MeSH:(528...</td>\n",
       "      <td>17180060158</td>\n",
       "    </tr>\n",
       "    <tr>\n",
       "      <th>2</th>\n",
       "      <td>3</td>\n",
       "      <td>1</td>\n",
       "      <td>-187.447001</td>\n",
       "      <td>C9H6O3</td>\n",
       "      <td>[M + H]+</td>\n",
       "      <td>QGOGDMXHAWFFJA</td>\n",
       "      <td>InChI=1S/C9H6O3/c10-8-6-4-2-1-3-5-7-9(11)12/h1...</td>\n",
       "      <td>NaN</td>\n",
       "      <td>C(CO)C#CC#CC#CC(=O)O</td>\n",
       "      <td>NaN</td>\n",
       "      <td>101409937</td>\n",
       "      <td>PubChem:(101409937);Natural Products:(UNPD5406)</td>\n",
       "      <td>32770</td>\n",
       "    </tr>\n",
       "    <tr>\n",
       "      <th>3</th>\n",
       "      <td>4</td>\n",
       "      <td>1</td>\n",
       "      <td>-187.626551</td>\n",
       "      <td>C9H6O3</td>\n",
       "      <td>[M + H]+</td>\n",
       "      <td>CJIJXIFQYOPWTF</td>\n",
       "      <td>InChI=1S/C9H6O3/c10-7-2-3-8-6(5-7)1-4-9(11)12-...</td>\n",
       "      <td>6-Hydroxycoumaran</td>\n",
       "      <td>C1=CC2=C(C=CC(=O)O2)C=C1O</td>\n",
       "      <td>NaN</td>\n",
       "      <td>99477</td>\n",
       "      <td>HMDB:(140948);Natural Products:(UNPD135856);Pu...</td>\n",
       "      <td>25769861322</td>\n",
       "    </tr>\n",
       "    <tr>\n",
       "      <th>4</th>\n",
       "      <td>5</td>\n",
       "      <td>1</td>\n",
       "      <td>-188.869317</td>\n",
       "      <td>C9H6O3</td>\n",
       "      <td>[M + H]+</td>\n",
       "      <td>CDHSCTCRBLLCBJ</td>\n",
       "      <td>InChI=1S/C9H6O3/c10-7-2-1-3-8-6(7)4-5-9(11)12-...</td>\n",
       "      <td>Coumarin, 5-hydroxy-</td>\n",
       "      <td>C1=CC2=C(C=CC(=O)O2)C(=C1)O</td>\n",
       "      <td>NaN</td>\n",
       "      <td>5318179</td>\n",
       "      <td>HMDB:(136738);KNApSAcK:(45576);Natural Product...</td>\n",
       "      <td>25769836762</td>\n",
       "    </tr>\n",
       "    <tr>\n",
       "      <th>5</th>\n",
       "      <td>6</td>\n",
       "      <td>1</td>\n",
       "      <td>-194.314860</td>\n",
       "      <td>C9H6O3</td>\n",
       "      <td>[M + H]+</td>\n",
       "      <td>MJKVTPMWOKAVMS</td>\n",
       "      <td>InChI=1S/C9H6O3/c10-7-5-6-3-1-2-4-8(6)12-9(7)1...</td>\n",
       "      <td>Spectrum_000476</td>\n",
       "      <td>C1=CC=C2C(=C1)C=C(C(=O)O2)O</td>\n",
       "      <td>NaN</td>\n",
       "      <td>13650</td>\n",
       "      <td>HMDB:(2149);KNApSAcK:(19143);Natural Products:...</td>\n",
       "      <td>25769847038</td>\n",
       "    </tr>\n",
       "    <tr>\n",
       "      <th>6</th>\n",
       "      <td>7</td>\n",
       "      <td>1</td>\n",
       "      <td>-195.507220</td>\n",
       "      <td>C9H6O3</td>\n",
       "      <td>[M + H]+</td>\n",
       "      <td>DPTUTXWBBUARQB</td>\n",
       "      <td>InChI=1S/C9H6O3/c10-7-3-1-2-6-4-5-8(11)12-9(6)...</td>\n",
       "      <td>8-Hydroxycoumarin</td>\n",
       "      <td>C1=CC2=C(C(=C1)O)OC(=O)C=C2</td>\n",
       "      <td>NaN</td>\n",
       "      <td>122783</td>\n",
       "      <td>HMDB:(140949);Natural Products:(UNPD118790);Pu...</td>\n",
       "      <td>25769844942</td>\n",
       "    </tr>\n",
       "    <tr>\n",
       "      <th>7</th>\n",
       "      <td>8</td>\n",
       "      <td>1</td>\n",
       "      <td>-198.345973</td>\n",
       "      <td>C9H6O3</td>\n",
       "      <td>[M + H]+</td>\n",
       "      <td>AWDSCPCHQFTJQT</td>\n",
       "      <td>InChI=1S/C9H6O3/c10-6-8(9(11)12)7-4-2-1-3-5-7/...</td>\n",
       "      <td>3-oxo-2-phenylprop-2-enoic acid</td>\n",
       "      <td>C1=CC=C(C=C1)C(=C=O)C(=O)O</td>\n",
       "      <td>NaN</td>\n",
       "      <td>16046281</td>\n",
       "      <td>PubChem:(16046281);PubMed:(null)</td>\n",
       "      <td>194</td>\n",
       "    </tr>\n",
       "    <tr>\n",
       "      <th>8</th>\n",
       "      <td>9</td>\n",
       "      <td>1</td>\n",
       "      <td>-203.200053</td>\n",
       "      <td>C9H6O3</td>\n",
       "      <td>[M + H]+</td>\n",
       "      <td>AEKQNAANFVOBCU</td>\n",
       "      <td>InChI=1S/C9H6O3/c10-4-7-1-8(5-11)3-9(2-7)6-12/...</td>\n",
       "      <td>1,3,5-benzenetricarbaldehyde</td>\n",
       "      <td>C1=C(C=C(C=C1C=O)C=O)C=O</td>\n",
       "      <td>NaN</td>\n",
       "      <td>2747968</td>\n",
       "      <td>PubChem:(2747968);PubMed:(null);ZINC bio:(ZINC...</td>\n",
       "      <td>8386</td>\n",
       "    </tr>\n",
       "    <tr>\n",
       "      <th>9</th>\n",
       "      <td>10</td>\n",
       "      <td>1</td>\n",
       "      <td>-204.156784</td>\n",
       "      <td>C9H6O3</td>\n",
       "      <td>[M + H]+</td>\n",
       "      <td>VXIXUWQIVKSKSA</td>\n",
       "      <td>InChI=1S/C9H6O3/c10-7-5-9(11)12-8-4-2-1-3-6(7)...</td>\n",
       "      <td>4-Coumarinol</td>\n",
       "      <td>C1=CC=C2C(=C1)C(=CC(=O)O2)O</td>\n",
       "      <td>NaN</td>\n",
       "      <td>12999350;54682930;54718160;54718161;76974112;1...</td>\n",
       "      <td>HMDB:(137904);Natural Products:(UNPD159568);Pu...</td>\n",
       "      <td>17179912686</td>\n",
       "    </tr>\n",
       "  </tbody>\n",
       "</table>\n",
       "</div>"
      ],
      "text/plain": [
       "   rank  formulaRank  CSI:FingerID_Score molecularFormula    adduct  \\\n",
       "0     1            1         -162.360250           C9H6O3  [M + H]+   \n",
       "1     2            1         -179.542187           C9H6O3  [M + H]+   \n",
       "2     3            1         -187.447001           C9H6O3  [M + H]+   \n",
       "3     4            1         -187.626551           C9H6O3  [M + H]+   \n",
       "4     5            1         -188.869317           C9H6O3  [M + H]+   \n",
       "5     6            1         -194.314860           C9H6O3  [M + H]+   \n",
       "6     7            1         -195.507220           C9H6O3  [M + H]+   \n",
       "7     8            1         -198.345973           C9H6O3  [M + H]+   \n",
       "8     9            1         -203.200053           C9H6O3  [M + H]+   \n",
       "9    10            1         -204.156784           C9H6O3  [M + H]+   \n",
       "\n",
       "       InChIkey2D                                              InChI  \\\n",
       "0  VYVSCBZOSRUQCZ  InChI=1S/C9H6O3/c10-8-4-2-1-3-7(8)5-6-9(11)12/...   \n",
       "1  ORHBXUUXSCNDEV  InChI=1S/C9H6O3/c10-7-3-1-6-2-4-9(11)12-8(6)5-...   \n",
       "2  QGOGDMXHAWFFJA  InChI=1S/C9H6O3/c10-8-6-4-2-1-3-5-7-9(11)12/h1...   \n",
       "3  CJIJXIFQYOPWTF  InChI=1S/C9H6O3/c10-7-2-3-8-6(5-7)1-4-9(11)12-...   \n",
       "4  CDHSCTCRBLLCBJ  InChI=1S/C9H6O3/c10-7-2-1-3-8-6(7)4-5-9(11)12-...   \n",
       "5  MJKVTPMWOKAVMS  InChI=1S/C9H6O3/c10-7-5-6-3-1-2-4-8(6)12-9(7)1...   \n",
       "6  DPTUTXWBBUARQB  InChI=1S/C9H6O3/c10-7-3-1-2-6-4-5-8(11)12-9(6)...   \n",
       "7  AWDSCPCHQFTJQT  InChI=1S/C9H6O3/c10-6-8(9(11)12)7-4-2-1-3-5-7/...   \n",
       "8  AEKQNAANFVOBCU  InChI=1S/C9H6O3/c10-4-7-1-8(5-11)3-9(2-7)6-12/...   \n",
       "9  VXIXUWQIVKSKSA  InChI=1S/C9H6O3/c10-7-5-9(11)12-8-4-2-1-3-6(7)...   \n",
       "\n",
       "                                     name                       smiles  xlogp  \\\n",
       "0  2-Propynoic acid, 3-(2-hydroxyphenyl)-    C1=CC=C(C(=C1)C#CC(=O)O)O    NaN   \n",
       "1                               Hydrangin    C1=CC(=CC2=C1C=CC(=O)O2)O    NaN   \n",
       "2                                     NaN         C(CO)C#CC#CC#CC(=O)O    NaN   \n",
       "3                       6-Hydroxycoumaran    C1=CC2=C(C=CC(=O)O2)C=C1O    NaN   \n",
       "4                    Coumarin, 5-hydroxy-  C1=CC2=C(C=CC(=O)O2)C(=C1)O    NaN   \n",
       "5                         Spectrum_000476  C1=CC=C2C(=C1)C=C(C(=O)O2)O    NaN   \n",
       "6                       8-Hydroxycoumarin  C1=CC2=C(C(=C1)O)OC(=O)C=C2    NaN   \n",
       "7         3-oxo-2-phenylprop-2-enoic acid   C1=CC=C(C=C1)C(=C=O)C(=O)O    NaN   \n",
       "8            1,3,5-benzenetricarbaldehyde     C1=C(C=C(C=C1C=O)C=O)C=O    NaN   \n",
       "9                            4-Coumarinol  C1=CC=C2C(=C1)C(=CC(=O)O2)O    NaN   \n",
       "\n",
       "                                          pubchemids  \\\n",
       "0                                           10855783   \n",
       "1        5281426;45358955;46781768;57369215;57981635   \n",
       "2                                          101409937   \n",
       "3                                              99477   \n",
       "4                                            5318179   \n",
       "5                                              13650   \n",
       "6                                             122783   \n",
       "7                                           16046281   \n",
       "8                                            2747968   \n",
       "9  12999350;54682930;54718160;54718161;76974112;1...   \n",
       "\n",
       "                                               links      dbflags  \n",
       "0                   PubChem:(10855783);PubMed:(null)          194  \n",
       "1  HMDB:(29865);ZINC bio:(ZINC00058111);MeSH:(528...  17180060158  \n",
       "2    PubChem:(101409937);Natural Products:(UNPD5406)        32770  \n",
       "3  HMDB:(140948);Natural Products:(UNPD135856);Pu...  25769861322  \n",
       "4  HMDB:(136738);KNApSAcK:(45576);Natural Product...  25769836762  \n",
       "5  HMDB:(2149);KNApSAcK:(19143);Natural Products:...  25769847038  \n",
       "6  HMDB:(140949);Natural Products:(UNPD118790);Pu...  25769844942  \n",
       "7                   PubChem:(16046281);PubMed:(null)          194  \n",
       "8  PubChem:(2747968);PubMed:(null);ZINC bio:(ZINC...         8386  \n",
       "9  HMDB:(137904);Natural Products:(UNPD159568);Pu...  17179912686  "
      ]
     },
     "metadata": {},
     "output_type": "display_data"
    }
   ],
   "source": [
    "C.identification(\"112\");"
   ]
  },
  {
   "cell_type": "markdown",
   "metadata": {},
   "source": [
    "With classification we get the compound classification of this compound.\n",
    "\n",
    "It outputs the tree with the categories and their probabilities. Categories with high probability are in bold. You can hover with the mouse over the categories to get a tooltip about their meaning."
   ]
  },
  {
   "cell_type": "code",
   "execution_count": null,
   "metadata": {},
   "outputs": [
    {
     "data": {
      "text/html": [
       "<li><span title='Constitutionally or isotopically distinct atoms, molecules, ions, ion pairs, radicals, radical ions, complexes, conformers etc., identifiable as a separately distinguishable entity.'><span style='font-weight:bold'>Chemical entities</span><span style='margin-left:15pt;font-weight:bold'>100 %</span></span><ul><li><span title='Compounds that contain at least carbon atom, excluding isocyanide/cyanide and their non-hydrocarbyl derivatives, thiophosgene, carbon diselenide, carbon monosulfide, carbon disulfide, carbon subsulfide, carbon monoxide, carbon trioxide, Carbon suboxide, and dicarbon monoxide.'><span style='font-weight:italic'>Organic compounds</span><span style='margin-left:15pt;font-weight:italic'></span></span><ul><li><span title='Organic compounds that are synthesized either from the amino acid phenylalanine (phenylpropanoids) or the decarboxylative condensation of malonyl-CoA (polyketides). Phenylpropanoids are aromatic compounds based on the phenylpropane skeleton. Polyketides usually consist of alternating carbonyl and methylene groups (beta-polyketones), biogenetically derived from repeated condensation of acetyl coenzyme A (via malonyl coenzyme A), and usually the compounds derived from them by further condensations.'><span style='font-weight:bold'>Phenylpropanoids and polyketides</span><span style='margin-left:15pt;font-weight:bold'>90 %</span></span><ul><li><span title='Organic aromatic compounds containing a benzene and a carboxylic acid group (or a derivative thereof) forming 3-phenylprop-2-enoic acid.'><span style='font-weight:bold'>Cinnamic acids and derivatives</span><span style='margin-left:15pt;font-weight:bold'>50 %</span></span><ul><li><span title='Compounds containing an cinnamic acid (or a derivative thereof) where the benzene ring is hydroxylated.'><span style='font-weight:bold'>Hydroxycinnamic acids and derivatives</span><span style='margin-left:15pt;font-weight:bold'>58 %</span></span><ul><li><span title='Aromatic compounds containing Aromatic compounds containing a cinnamic acid moiety (or a derivative thereof) hydroxylated at the C2 (ortho-), C3 (meta-), or C4 (para-) carbon atom of the benzene ring.'><span style='font-weight:italic'>Coumaric acids and derivatives</span><span style='margin-left:15pt;font-weight:italic'>29 %</span></span></li></ul></li></ul></li></ul></li><li><span title='Aromatic compounds containing one or more benzene rings.'><span style='font-weight:bold'>Benzenoids</span><span style='margin-left:15pt;font-weight:bold'>99 %</span></span><ul><li><span title='Compounds containing a phenol moiety, which is a benzene bearing a hydroxyl group.'><span style='font-weight:bold'>Phenols</span><span style='margin-left:15pt;font-weight:bold'>98 %</span></span><ul><li><span title='Organic compounds containing two hydroxyl groups attached to a benzene ring.'><span style='font-weight:bold'>Benzenediols</span><span style='margin-left:15pt;font-weight:bold'>99 %</span></span><ul><li><span title='Compounds containing a 1,2-benzenediol moiety.'><span style='font-weight:bold'>Catechols</span><span style='margin-left:15pt;font-weight:bold'>99 %</span></span></li></ul></li><li><span title='Phenols that a unsubstituted at the 2-position.'><span style='font-weight:bold'>1-hydroxy-2-unsubstituted benzenoids</span><span style='margin-left:15pt;font-weight:bold'>98 %</span></span></li><li><span title='Phenols that are unsubstituted at the 4-position.'><span style='font-weight:bold'>1-hydroxy-4-unsubstituted benzenoids</span><span style='margin-left:15pt;font-weight:bold'>98 %</span></span></li></ul></li><li><span title='Aromatic compounds containing one monocyclic ring system consisting of benzene.'><span style='font-weight:bold'>Benzene and substituted derivatives</span><span style='margin-left:15pt;font-weight:bold'>99 %</span></span><ul><li><span title='Organic compounds containing an ethenylbenzene moiety.'><span style='font-weight:bold'>Styrenes</span><span style='margin-left:15pt;font-weight:bold'>91 %</span></span></li></ul></li></ul></li><li><span title='Organic compounds that contain one or more oxygen atoms.'><span style='font-weight:italic'>Organic oxygen compounds</span><span style='margin-left:15pt;font-weight:italic'></span></span><ul><li><span title='Organic compounds containing a bond between a carbon atom and an oxygen atom.'><span style='font-weight:italic'>Organooxygen compounds</span><span style='margin-left:15pt;font-weight:italic'></span></span><ul><li><span title='Organic compounds containing a carbonyl group, with the general structure RC(=O)R', where R=organyl, R'=H, N, O, organyl group or halide group.'><span style='font-weight:bold'>Carbonyl compounds</span><span style='margin-left:15pt;font-weight:bold'>82 %</span></span></li></ul></li><li><span title='Organic compounds containing an oxide group.'><span style='font-weight:bold'>Organic oxides</span><span style='margin-left:15pt;font-weight:bold'>89 %</span></span></li></ul></li></ul></li></ul></li>"
      ],
      "text/plain": [
       "<IPython.core.display.HTML object>"
      ]
     },
     "metadata": {},
     "output_type": "display_data"
    }
   ],
   "source": [
    "C.classification(\"112\")"
   ]
  },
  {
   "cell_type": "markdown",
   "metadata": {},
   "source": [
    "Finally, we might be interested in which samples this feature appears. This can be done with histogram."
   ]
  },
  {
   "cell_type": "code",
   "execution_count": null,
   "metadata": {},
   "outputs": [
    {
     "data": {
      "image/png": "[encoded data removed]",
      "text/plain": [
       "<Figure size 432x288 with 2 Axes>"
      ]
     },
     "metadata": {
      "needs_background": "light"
     },
     "output_type": "display_data"
    }
   ],
   "source": [
    "C.histogram(\"112\")"
   ]
  },
  {
   "cell_type": "markdown",
   "metadata": {},
   "source": [
    "There are always two plots: Left is the plot of normalized intensities. The normalization is done by:\n",
    "\n",
    "1. Apply Quantile Normalization. This kind of normalization gives the highest compound in each sample the same intensity, as well as the second highest and so on.\n",
    "2. Normalize each sample individually, such that the highest compound gets intensity 1.\n",
    "\n",
    "The resulting quant table can be accessed with `C.QuantNormalized`\n",
    "\n",
    "There is a second normalization routine which happens after the first one:\n",
    "\n",
    "1. Add a pseudocount on all intensities (use the 1% quantile of intensities for that)\n",
    "2. Take the logarithm with base 10 on all intensities\n",
    "3. Round all values to the next 0.5 number. This results in a very discrete looking dataset where small intensity deviations are removed from data.\n",
    "\n",
    "The result of the second normalization step can be accessed with `C.QuantLogarithmic`\n",
    "\n",
    "The plot above shows both normalizations.\n",
    "\n",
    "We can repeat all steps above in a single command:\n"
   ]
  },
  {
   "cell_type": "code",
   "execution_count": null,
   "metadata": {
    "scrolled": false
   },
   "outputs": [
    {
     "data": {
      "text/html": [
       "<h3>C<sub>13</sub>H<sub>18</sub>N<sub>2</sub>O<sub>3</sub> ([M+H]+)</h3><br />Zodiac Score: 97<br />Feature-ID: 11"
      ],
      "text/plain": [
       "<IPython.core.display.HTML object>"
      ]
     },
     "metadata": {},
     "output_type": "display_data"
    },
    {
     "data": {
      "text/html": [
       "<div>\n",
       "<style scoped>\n",
       "    .dataframe tbody tr th:only-of-type {\n",
       "        vertical-align: middle;\n",
       "    }\n",
       "\n",
       "    .dataframe tbody tr th {\n",
       "        vertical-align: top;\n",
       "    }\n",
       "\n",
       "    .dataframe thead th {\n",
       "        text-align: right;\n",
       "    }\n",
       "</style>\n",
       "<table border=\"1\" class=\"dataframe\">\n",
       "  <thead>\n",
       "    <tr style=\"text-align: right;\">\n",
       "      <th></th>\n",
       "      <th>#Scan#</th>\n",
       "      <th>Adduct</th>\n",
       "      <th>CAS_Number</th>\n",
       "      <th>Charge</th>\n",
       "      <th>Compound_Name</th>\n",
       "      <th>Compound_Source</th>\n",
       "      <th>Data_Collector</th>\n",
       "      <th>ExactMass</th>\n",
       "      <th>FileScanUniqueID</th>\n",
       "      <th>INCHI</th>\n",
       "      <th>...</th>\n",
       "      <th>RT_Query</th>\n",
       "      <th>SharedPeaks</th>\n",
       "      <th>Smiles</th>\n",
       "      <th>SpecCharge</th>\n",
       "      <th>SpecMZ</th>\n",
       "      <th>SpectrumFile</th>\n",
       "      <th>SpectrumID</th>\n",
       "      <th>TIC_Query</th>\n",
       "      <th>UpdateWorkflowName</th>\n",
       "      <th>tags</th>\n",
       "    </tr>\n",
       "  </thead>\n",
       "  <tbody>\n",
       "  </tbody>\n",
       "</table>\n",
       "<p>0 rows × 36 columns</p>\n",
       "</div>"
      ],
      "text/plain": [
       "Empty DataFrame\n",
       "Columns: [#Scan#, Adduct, CAS_Number, Charge, Compound_Name, Compound_Source, Data_Collector, ExactMass, FileScanUniqueID, INCHI, INCHI_AUX, Instrument, IonMode, Ion_Source, LibMZ, LibraryName, LibraryQualityString, Library_Class, MQScore, MZErrorPPM, MassDiff, NumberHits, Organism, PI, Precursor_MZ, Pubmed_ID, RT_Query, SharedPeaks, Smiles, SpecCharge, SpecMZ, SpectrumFile, SpectrumID, TIC_Query, UpdateWorkflowName, tags]\n",
       "Index: []\n",
       "\n",
       "[0 rows x 36 columns]"
      ]
     },
     "metadata": {},
     "output_type": "display_data"
    },
    {
     "data": {
      "text/html": [
       "<div>\n",
       "<style scoped>\n",
       "    .dataframe tbody tr th:only-of-type {\n",
       "        vertical-align: middle;\n",
       "    }\n",
       "\n",
       "    .dataframe tbody tr th {\n",
       "        vertical-align: top;\n",
       "    }\n",
       "\n",
       "    .dataframe thead th {\n",
       "        text-align: right;\n",
       "    }\n",
       "</style>\n",
       "<table border=\"1\" class=\"dataframe\">\n",
       "  <thead>\n",
       "    <tr style=\"text-align: right;\">\n",
       "      <th></th>\n",
       "      <th>rank</th>\n",
       "      <th>formulaRank</th>\n",
       "      <th>CSI:FingerID_Score</th>\n",
       "      <th>molecularFormula</th>\n",
       "      <th>adduct</th>\n",
       "      <th>InChIkey2D</th>\n",
       "      <th>InChI</th>\n",
       "      <th>name</th>\n",
       "      <th>smiles</th>\n",
       "      <th>xlogp</th>\n",
       "      <th>pubchemids</th>\n",
       "      <th>links</th>\n",
       "      <th>dbflags</th>\n",
       "    </tr>\n",
       "  </thead>\n",
       "  <tbody>\n",
       "    <tr>\n",
       "      <th>0</th>\n",
       "      <td>1</td>\n",
       "      <td>1</td>\n",
       "      <td>-112.586911</td>\n",
       "      <td>C13H18N2O3</td>\n",
       "      <td>[M + H]+</td>\n",
       "      <td>MWUNDCCUMICSNT</td>\n",
       "      <td>InChI=1S/C13H18N2O3/c14-11(13(17)18)6-7-12(16)...</td>\n",
       "      <td>(2S)-2-amino-5-oxo-5-(2-phenylethylamino)penta...</td>\n",
       "      <td>C1=CC=C(C=C1)CCNC(=O)CCC(C(=O)O)N</td>\n",
       "      <td>NaN</td>\n",
       "      <td>21971869;23284279</td>\n",
       "      <td>PubChem:(21971869 23284279)</td>\n",
       "      <td>2</td>\n",
       "    </tr>\n",
       "    <tr>\n",
       "      <th>1</th>\n",
       "      <td>2</td>\n",
       "      <td>1</td>\n",
       "      <td>-123.439869</td>\n",
       "      <td>C13H18N2O3</td>\n",
       "      <td>[M + H]+</td>\n",
       "      <td>MPQVUBBMTFSQNB</td>\n",
       "      <td>InChI=1S/C13H18N2O3/c1-9(10-5-3-2-4-6-10)15-12...</td>\n",
       "      <td>NaN</td>\n",
       "      <td>CC(C1=CC=CC=C1)NC(=O)CCC(C(=O)O)N</td>\n",
       "      <td>NaN</td>\n",
       "      <td>101056617</td>\n",
       "      <td>PubChem:(101056617)</td>\n",
       "      <td>2</td>\n",
       "    </tr>\n",
       "    <tr>\n",
       "      <th>2</th>\n",
       "      <td>3</td>\n",
       "      <td>1</td>\n",
       "      <td>-133.883324</td>\n",
       "      <td>C13H18N2O3</td>\n",
       "      <td>[M + H]+</td>\n",
       "      <td>UGWBCWZQGXNGRL</td>\n",
       "      <td>InChI=1S/C13H18N2O3/c14-12(16)7-6-11(13(17)18)...</td>\n",
       "      <td>5-amino-5-oxo-2-(2-phenylethylamino)pentanoic ...</td>\n",
       "      <td>C1=CC=C(C=C1)CCNC(CCC(=O)N)C(=O)O</td>\n",
       "      <td>NaN</td>\n",
       "      <td>21189464;22871555</td>\n",
       "      <td>PubChem:(21189464 22871555)</td>\n",
       "      <td>2</td>\n",
       "    </tr>\n",
       "    <tr>\n",
       "      <th>3</th>\n",
       "      <td>4</td>\n",
       "      <td>1</td>\n",
       "      <td>-135.880336</td>\n",
       "      <td>C13H18N2O3</td>\n",
       "      <td>[M + H]+</td>\n",
       "      <td>VZVWXSFVQOVCEZ</td>\n",
       "      <td>InChI=1S/C13H18N2O3/c14-11(6-7-12(16)17)13(18)...</td>\n",
       "      <td>NaN</td>\n",
       "      <td>C1=CC=C(C=C1)CCNC(=O)C(CCC(=O)O)N</td>\n",
       "      <td>NaN</td>\n",
       "      <td>15735246;64894824</td>\n",
       "      <td>PubChem:(15735246 64894824)</td>\n",
       "      <td>2</td>\n",
       "    </tr>\n",
       "    <tr>\n",
       "      <th>4</th>\n",
       "      <td>5</td>\n",
       "      <td>1</td>\n",
       "      <td>-140.571121</td>\n",
       "      <td>C13H18N2O3</td>\n",
       "      <td>[M + H]+</td>\n",
       "      <td>DWGGJPNHIOEWFO</td>\n",
       "      <td>InChI=1S/C13H18N2O3/c14-13(18)11(6-7-12(16)17)...</td>\n",
       "      <td>NaN</td>\n",
       "      <td>C1=CC=C(C=C1)CCNC(CCC(=O)O)C(=O)N</td>\n",
       "      <td>NaN</td>\n",
       "      <td>67332668</td>\n",
       "      <td>PubChem:(67332668)</td>\n",
       "      <td>2</td>\n",
       "    </tr>\n",
       "    <tr>\n",
       "      <th>5</th>\n",
       "      <td>6</td>\n",
       "      <td>1</td>\n",
       "      <td>-141.590123</td>\n",
       "      <td>C13H18N2O3</td>\n",
       "      <td>[M + H]+</td>\n",
       "      <td>KERMDVGZZNOROH</td>\n",
       "      <td>InChI=1S/C13H18N2O3/c1-9-3-2-4-10(7-9)8-15-12(...</td>\n",
       "      <td>NaN</td>\n",
       "      <td>CC1=CC(=CC=C1)CNC(=O)CCC(C(=O)O)N</td>\n",
       "      <td>NaN</td>\n",
       "      <td>83308449</td>\n",
       "      <td>PubChem:(83308449)</td>\n",
       "      <td>2</td>\n",
       "    </tr>\n",
       "    <tr>\n",
       "      <th>6</th>\n",
       "      <td>7</td>\n",
       "      <td>1</td>\n",
       "      <td>-150.145730</td>\n",
       "      <td>C13H18N2O3</td>\n",
       "      <td>[M + H]+</td>\n",
       "      <td>KMVSNVHQLZMMPA</td>\n",
       "      <td>InChI=1S/C13H18N2O3/c1-9(10-5-3-2-4-6-10)15-13...</td>\n",
       "      <td>NaN</td>\n",
       "      <td>CC(C1=CC=CC=C1)NC(=O)C(CCC(=O)O)N</td>\n",
       "      <td>NaN</td>\n",
       "      <td>64888017;64894997;79001415</td>\n",
       "      <td>PubChem:(64888017 64894997 79001415)</td>\n",
       "      <td>2</td>\n",
       "    </tr>\n",
       "    <tr>\n",
       "      <th>7</th>\n",
       "      <td>8</td>\n",
       "      <td>1</td>\n",
       "      <td>-152.424519</td>\n",
       "      <td>C13H18N2O3</td>\n",
       "      <td>[M + H]+</td>\n",
       "      <td>PEUIYJRTIOEFHM</td>\n",
       "      <td>InChI=1S/C13H18N2O3/c1-9-2-4-10(5-3-9)8-15-12(...</td>\n",
       "      <td>NaN</td>\n",
       "      <td>CC1=CC=C(C=C1)CNC(=O)CCC(C(=O)O)N</td>\n",
       "      <td>NaN</td>\n",
       "      <td>83308447</td>\n",
       "      <td>PubChem:(83308447)</td>\n",
       "      <td>2</td>\n",
       "    </tr>\n",
       "    <tr>\n",
       "      <th>8</th>\n",
       "      <td>9</td>\n",
       "      <td>1</td>\n",
       "      <td>-153.758755</td>\n",
       "      <td>C13H18N2O3</td>\n",
       "      <td>[M + H]+</td>\n",
       "      <td>MVPJCRYQSGSLBM</td>\n",
       "      <td>InChI=1S/C13H18N2O3/c1-8-3-5-11(9(2)7-8)15-12(...</td>\n",
       "      <td>NaN</td>\n",
       "      <td>CC1=CC(=C(C=C1)NC(=O)CCC(C(=O)O)N)C</td>\n",
       "      <td>NaN</td>\n",
       "      <td>131885860</td>\n",
       "      <td>PubChem:(131885860)</td>\n",
       "      <td>2</td>\n",
       "    </tr>\n",
       "    <tr>\n",
       "      <th>9</th>\n",
       "      <td>10</td>\n",
       "      <td>1</td>\n",
       "      <td>-159.153896</td>\n",
       "      <td>C13H18N2O3</td>\n",
       "      <td>[M + H]+</td>\n",
       "      <td>LSPDYXZENYZYOJ</td>\n",
       "      <td>InChI=1S/C13H18N2O3/c1-9-3-2-4-10(7-9)8-15-11(...</td>\n",
       "      <td>NaN</td>\n",
       "      <td>CC1=CC(=CC=C1)CNC(CCC(=O)N)C(=O)O</td>\n",
       "      <td>NaN</td>\n",
       "      <td>67333999;77269429</td>\n",
       "      <td>PubChem:(67333999 77269429)</td>\n",
       "      <td>2</td>\n",
       "    </tr>\n",
       "  </tbody>\n",
       "</table>\n",
       "</div>"
      ],
      "text/plain": [
       "   rank  formulaRank  CSI:FingerID_Score molecularFormula    adduct  \\\n",
       "0     1            1         -112.586911       C13H18N2O3  [M + H]+   \n",
       "1     2            1         -123.439869       C13H18N2O3  [M + H]+   \n",
       "2     3            1         -133.883324       C13H18N2O3  [M + H]+   \n",
       "3     4            1         -135.880336       C13H18N2O3  [M + H]+   \n",
       "4     5            1         -140.571121       C13H18N2O3  [M + H]+   \n",
       "5     6            1         -141.590123       C13H18N2O3  [M + H]+   \n",
       "6     7            1         -150.145730       C13H18N2O3  [M + H]+   \n",
       "7     8            1         -152.424519       C13H18N2O3  [M + H]+   \n",
       "8     9            1         -153.758755       C13H18N2O3  [M + H]+   \n",
       "9    10            1         -159.153896       C13H18N2O3  [M + H]+   \n",
       "\n",
       "       InChIkey2D                                              InChI  \\\n",
       "0  MWUNDCCUMICSNT  InChI=1S/C13H18N2O3/c14-11(13(17)18)6-7-12(16)...   \n",
       "1  MPQVUBBMTFSQNB  InChI=1S/C13H18N2O3/c1-9(10-5-3-2-4-6-10)15-12...   \n",
       "2  UGWBCWZQGXNGRL  InChI=1S/C13H18N2O3/c14-12(16)7-6-11(13(17)18)...   \n",
       "3  VZVWXSFVQOVCEZ  InChI=1S/C13H18N2O3/c14-11(6-7-12(16)17)13(18)...   \n",
       "4  DWGGJPNHIOEWFO  InChI=1S/C13H18N2O3/c14-13(18)11(6-7-12(16)17)...   \n",
       "5  KERMDVGZZNOROH  InChI=1S/C13H18N2O3/c1-9-3-2-4-10(7-9)8-15-12(...   \n",
       "6  KMVSNVHQLZMMPA  InChI=1S/C13H18N2O3/c1-9(10-5-3-2-4-6-10)15-13...   \n",
       "7  PEUIYJRTIOEFHM  InChI=1S/C13H18N2O3/c1-9-2-4-10(5-3-9)8-15-12(...   \n",
       "8  MVPJCRYQSGSLBM  InChI=1S/C13H18N2O3/c1-8-3-5-11(9(2)7-8)15-12(...   \n",
       "9  LSPDYXZENYZYOJ  InChI=1S/C13H18N2O3/c1-9-3-2-4-10(7-9)8-15-11(...   \n",
       "\n",
       "                                                name  \\\n",
       "0  (2S)-2-amino-5-oxo-5-(2-phenylethylamino)penta...   \n",
       "1                                                NaN   \n",
       "2  5-amino-5-oxo-2-(2-phenylethylamino)pentanoic ...   \n",
       "3                                                NaN   \n",
       "4                                                NaN   \n",
       "5                                                NaN   \n",
       "6                                                NaN   \n",
       "7                                                NaN   \n",
       "8                                                NaN   \n",
       "9                                                NaN   \n",
       "\n",
       "                                smiles  xlogp                  pubchemids  \\\n",
       "0    C1=CC=C(C=C1)CCNC(=O)CCC(C(=O)O)N    NaN           21971869;23284279   \n",
       "1    CC(C1=CC=CC=C1)NC(=O)CCC(C(=O)O)N    NaN                   101056617   \n",
       "2    C1=CC=C(C=C1)CCNC(CCC(=O)N)C(=O)O    NaN           21189464;22871555   \n",
       "3    C1=CC=C(C=C1)CCNC(=O)C(CCC(=O)O)N    NaN           15735246;64894824   \n",
       "4    C1=CC=C(C=C1)CCNC(CCC(=O)O)C(=O)N    NaN                    67332668   \n",
       "5    CC1=CC(=CC=C1)CNC(=O)CCC(C(=O)O)N    NaN                    83308449   \n",
       "6    CC(C1=CC=CC=C1)NC(=O)C(CCC(=O)O)N    NaN  64888017;64894997;79001415   \n",
       "7    CC1=CC=C(C=C1)CNC(=O)CCC(C(=O)O)N    NaN                    83308447   \n",
       "8  CC1=CC(=C(C=C1)NC(=O)CCC(C(=O)O)N)C    NaN                   131885860   \n",
       "9    CC1=CC(=CC=C1)CNC(CCC(=O)N)C(=O)O    NaN           67333999;77269429   \n",
       "\n",
       "                                  links  dbflags  \n",
       "0           PubChem:(21971869 23284279)        2  \n",
       "1                   PubChem:(101056617)        2  \n",
       "2           PubChem:(21189464 22871555)        2  \n",
       "3           PubChem:(15735246 64894824)        2  \n",
       "4                    PubChem:(67332668)        2  \n",
       "5                    PubChem:(83308449)        2  \n",
       "6  PubChem:(64888017 64894997 79001415)        2  \n",
       "7                    PubChem:(83308447)        2  \n",
       "8                   PubChem:(131885860)        2  \n",
       "9           PubChem:(67333999 77269429)        2  "
      ]
     },
     "metadata": {},
     "output_type": "display_data"
    },
    {
     "data": {
      "text/html": [
       "<li><span title='Constitutionally or isotopically distinct atoms, molecules, ions, ion pairs, radicals, radical ions, complexes, conformers etc., identifiable as a separately distinguishable entity.'><span style='font-weight:bold'>Chemical entities</span><span style='margin-left:15pt;font-weight:bold'>100 %</span></span><ul><li><span title='Compounds that contain at least carbon atom, excluding isocyanide/cyanide and their non-hydrocarbyl derivatives, thiophosgene, carbon diselenide, carbon monosulfide, carbon disulfide, carbon subsulfide, carbon monoxide, carbon trioxide, Carbon suboxide, and dicarbon monoxide.'><span style='font-weight:italic'>Organic compounds</span><span style='margin-left:15pt;font-weight:italic'></span></span><ul><li><span title='Fatty acids and their derivatives, and substances related biosynthetically or functionally to these compounds.'><span style='font-weight:bold'>Lipids and lipid-like molecules</span><span style='margin-left:15pt;font-weight:bold'>78 %</span></span><ul><li><span title='Organic molecules synthesized by chain elongation of an acetyl-CoA primer with malonyl-CoA (or methylmalonyl-CoA) groups that might contain a cyclic functionality and/or are substituted with heteroatoms.'><span style='font-weight:bold'>Fatty Acyls</span><span style='margin-left:15pt;font-weight:bold'>78 %</span></span><ul><li><span title='Carboxylic acid amide derivatives of fatty acids, that are formed from a fatty acid and an amine.'><span style='font-weight:bold'>Fatty amides</span><span style='margin-left:15pt;font-weight:bold'>71 %</span></span></li></ul></li></ul></li><li><span title='Compounds an organic acid or a derivative thereof.'><span style='font-weight:bold'>Organic acids and derivatives</span><span style='margin-left:15pt;font-weight:bold'>99 %</span></span><ul><li><span title='Compounds containing a carboxylic acid group with the formula -C(=O)OH or a derivative thereof.'><span style='font-weight:bold'>Carboxylic acids and derivatives</span><span style='margin-left:15pt;font-weight:bold'>97 %</span></span><ul><li><span title='Organic compounds containing an amino acid or a peptide backbone, or derivatives thereof.'><span style='font-weight:bold'>Amino acids, peptides, and analogues</span><span style='margin-left:15pt;font-weight:bold'>83 %</span></span><ul><li><span title='Organic compounds containing an amine group, a carboxylic acid group (or a derivative thereof), and a side-chain that is specific to each amino acid.'><span style='font-weight:bold'>Amino acids and derivatives</span><span style='margin-left:15pt;font-weight:bold'>82 %</span></span><ul><li><span title='Amino acids in which the amino group is attached to the carbon atom immediately adjacent to the carboxylate group (alpha carbon), or a derivative thereof.'><span style='font-weight:bold'>Alpha amino acids and derivatives</span><span style='margin-left:15pt;font-weight:bold'>85 %</span></span><ul><li><span title='Compounds containing an alpha amino acid (or a derivative thereof) which bears an acyl group at its terminal nitrogen atom.'><span style='font-weight:bold'>N-acyl-alpha amino acids and derivatives</span><span style='margin-left:15pt;font-weight:bold'>61 %</span></span><ul><li><span title='Compounds containing an alpha amino acid which bears an acyl group at its terminal nitrogen atom.'><span style='font-weight:italic'>N-acyl-alpha amino acids</span><span style='margin-left:15pt;font-weight:italic'>37 %</span></span></li></ul></li><li><span title='Amino acids in which the amino group is attached to the carbon atom immediately adjacent to the carboxylate group (alpha carbon).'><span style='font-weight:bold'>Alpha amino acids</span><span style='margin-left:15pt;font-weight:bold'>54 %</span></span></li><li><span title='Compounds containing glutamine or a derivative thereof resulting from reaction of glutamine at the amino group or the carboxy group, or from the replacement of any hydrogen of glycine by a heteroatom.'><span style='font-weight:bold'>Glutamine and derivatives</span><span style='margin-left:15pt;font-weight:bold'>98 %</span></span></li></ul></li><li><span title='Organic compounds that contain at least one carboxyl group and one amino group.'><span style='font-weight:bold'>Amino acids</span><span style='margin-left:15pt;font-weight:bold'>57 %</span></span></li></ul></li></ul></li><li><span title='Derivatives of carboxylic acid.'><span style='font-weight:bold'>Carboxylic acid derivatives</span><span style='margin-left:15pt;font-weight:bold'>80 %</span></span><ul><li><span title='Carboxylic acid derivatives containing a carbonyl group in which the carbon atom is linked to a nitrogen atom (substituted or not). The general formula of the carboxylic acid amide is R1C(=O)N(R2)R3 (R1,R2,R3=H, alkyl, aryl).'><span style='font-weight:bold'>Carboxylic acid amides</span><span style='margin-left:15pt;font-weight:bold'>81 %</span></span><ul><li><span title='Compounds comprising primary carboxylic acid amide functional group, with the general structure RC(=O)NH2.'><span style='font-weight:bold'>Primary carboxylic acid amides</span><span style='margin-left:15pt;font-weight:bold'>61 %</span></span></li><li><span title='Compounds containing a secondary carboxylic acid amide functional group, with the general structure RC(=O)N(R')H (R,R'=alkyl, aryl).'><span style='font-weight:bold'>Secondary carboxylic acid amides</span><span style='margin-left:15pt;font-weight:bold'>70 %</span></span></li></ul></li></ul></li><li><span title='Carboxylic acids containing exactly one carboxyl groups.'><span style='font-weight:bold'>Monocarboxylic acids and derivatives</span><span style='margin-left:15pt;font-weight:bold'>90 %</span></span></li><li><span title='Compounds containing a carboxylic acid group with the formula -C(=O)OH.'><span style='font-weight:bold'>Carboxylic acids</span><span style='margin-left:15pt;font-weight:bold'>84 %</span></span></li></ul></li></ul></li><li><span title='Aromatic compounds containing one or more benzene rings.'><span style='font-weight:bold'>Benzenoids</span><span style='margin-left:15pt;font-weight:bold'>99 %</span></span><ul><li><span title='Aromatic compounds containing one monocyclic ring system consisting of benzene.'><span style='font-weight:bold'>Benzene and substituted derivatives</span><span style='margin-left:15pt;font-weight:bold'>98 %</span></span><ul><li><span title='Compounds containing a benzene ring which bears a methane group.'><span style='font-weight:italic'>Toluenes</span><span style='margin-left:15pt;font-weight:italic'>28 %</span></span></li></ul></li></ul></li><li><span title='Compounds containing a bond between carbon a pnictogen atom. Pnictogens are p-block element atoms that are in the group 15 of the periodic table.'><span style='font-weight:bold'>Organopnictogen compounds</span><span style='margin-left:15pt;font-weight:bold'>82 %</span></span></li><li><span title='Organic compounds that contain one or more oxygen atoms.'><span style='font-weight:italic'>Organic oxygen compounds</span><span style='margin-left:15pt;font-weight:italic'></span></span><ul><li><span title='Organic compounds containing a bond between a carbon atom and an oxygen atom.'><span style='font-weight:italic'>Organooxygen compounds</span><span style='margin-left:15pt;font-weight:italic'></span></span><ul><li><span title='Organic compounds containing a carbonyl group, with the general structure RC(=O)R', where R=organyl, R'=H, N, O, organyl group or halide group.'><span style='font-weight:bold'>Carbonyl compounds</span><span style='margin-left:15pt;font-weight:bold'>96 %</span></span></li></ul></li><li><span title='Organic compounds containing an oxide group.'><span style='font-weight:bold'>Organic oxides</span><span style='margin-left:15pt;font-weight:bold'>98 %</span></span></li></ul></li><li><span title='Organic compounds containing a nitrogen atom.'><span style='font-weight:bold'>Organic nitrogen compounds</span><span style='margin-left:15pt;font-weight:bold'>99 %</span></span><ul><li><span title='Organic compounds containing a nitrogen atom.'><span style='font-weight:bold'>Organonitrogen compounds</span><span style='margin-left:15pt;font-weight:bold'>99 %</span></span><ul><li><span title='Compounds formally derived from ammonia by replacing one, two or three hydrogen atoms by hydrocarbyl groups, and having the general structures RNH2 (primary amines), R2NH (secondary amines), R3N (tertiary amines).'><span style='font-weight:bold'>Amines</span><span style='margin-left:15pt;font-weight:bold'>50 %</span></span><ul><li><span title='Amines having the nitrogen atom linked to exactly one hydrocarbyl group.'><span style='font-weight:bold'>Primary amines</span><span style='margin-left:15pt;font-weight:bold'>52 %</span></span><ul><li><span title='Organic compounds containing an primary aliphatic amine group.'><span style='font-weight:bold'>Monoalkylamines</span><span style='margin-left:15pt;font-weight:bold'>60 %</span></span></li></ul></li></ul></li></ul></li></ul></li></ul></li></ul></li>"
      ],
      "text/plain": [
       "<IPython.core.display.HTML object>"
      ]
     },
     "metadata": {},
     "output_type": "display_data"
    },
    {
     "data": {
      "image/png": "[encoded data removed]",
      "text/plain": [
       "<Figure size 432x288 with 2 Axes>"
      ]
     },
     "metadata": {
      "needs_background": "light"
     },
     "output_type": "display_data"
    }
   ],
   "source": [
    "C.describe(\"11\")"
   ]
  },
  {
   "cell_type": "markdown",
   "metadata": {},
   "source": [
    "# More about  conditions\n",
    "\n",
    "Before we continue with the next topic, let me give a short explanation about conditions and grouping conditions. We have seen in the last plots, that all conditions we have defined so far are represented in the plot. We can also give a list of conditions to display, though:"
   ]
  },
  {
   "cell_type": "code",
   "execution_count": null,
   "metadata": {},
   "outputs": [
    {
     "data": {
      "image/png": "[encoded data removed]",
      "text/plain": [
       "<Figure size 432x288 with 2 Axes>"
      ]
     },
     "metadata": {
      "needs_background": "light"
     },
     "output_type": "display_data"
    }
   ],
   "source": [
    "C.histogram(\"101\", [\"Flower\", \"Leave\"])"
   ]
  },
  {
   "cell_type": "markdown",
   "metadata": {},
   "source": [
    "There are two additional methods: **join** and **select**. With join we group conditions together and say \"one of these conditions have to be true\"."
   ]
  },
  {
   "cell_type": "code",
   "execution_count": null,
   "metadata": {},
   "outputs": [
    {
     "data": {
      "image/png": "[encoded data removed]",
      "text/plain": [
       "<Figure size 432x288 with 2 Axes>"
      ]
     },
     "metadata": {
      "needs_background": "light"
     },
     "output_type": "display_data"
    }
   ],
   "source": [
    "C.histogram(\"101\", [\"Flower\", C.join(\"Leave\", \"Stem\")])"
   ]
  },
  {
   "cell_type": "markdown",
   "metadata": {},
   "source": [
    "In this example it does not make much sense to join the two conditions Leave and Stem. But when we have A LOT of conditions, we might want to plot only a subset of them. Just an example: the mice dataset has two conditions for the treatment (GF and SPF) as well as many conditions for the organs (Mouth, Stomach, and so on). If we want to simplify the plot by merging all organs, which are part of the guts, together, we can use the join method for that. We can also assign a name and a color to it:"
   ]
  },
  {
   "cell_type": "code",
   "execution_count": null,
   "metadata": {},
   "outputs": [
    {
     "data": {
      "image/png": "[encoded data removed]",
      "text/plain": [
       "<Figure size 432x288 with 2 Axes>"
      ]
     },
     "metadata": {
      "needs_background": "light"
     },
     "output_type": "display_data"
    }
   ],
   "source": [
    "C.histogram(\"101\", [\"Flower\", C.join(\"Leave\", \"Stem\",name = \"green parts\", color=\"seagreen\")])"
   ]
  },
  {
   "cell_type": "markdown",
   "metadata": {},
   "source": [
    "While **join** is taking the union of all samples of different conditions, **select** is taking the intersection. It does not make sense for this dataset, because we have only distinguished conditions. But for the mouse dataset we could define a group for all samples that are from the germ free mouse and from the guts. We could define such a set as:\n",
    "`C.select(\"GF\",C.join(\"Duo\",\"Jeju\",\"Ile\",\"Cecum\",\"Colon\"))`"
   ]
  },
  {
   "cell_type": "markdown",
   "metadata": {},
   "source": [
    "## Differential analysis\n",
    "\n",
    "The idea of this kind of analysis is that we want to know, which compound classes are important to differentiate between two conditions. For example: what are the compound classes that are present in Leave but absent in Stem or vice versa.\n",
    "\n",
    "For finding compound classes which are important to differentiate between the conditions, we proceed the following:\n",
    "\n",
    "1. order all compounds according to how good they discriminate between the conditions\n",
    "2. make a permutation test to find out if many of these high discriminating compound classes belong to the same compound class\n",
    "\n",
    "Because this kind of analysis is quite complex, we first build a new object for differential analysis by calling the differential method. This method gets the two conditions as parameters. If we left out the second condition, all conditions except the first one is used automatically. We save the return value in the variable D.\n",
    "\n",
    "The last parameter is the ordering method. by default, it is \"robust_forest\", which is a random forest on the logarithmic data. We can also choose other methods, but let us keep by the default first."
   ]
  },
  {
   "cell_type": "code",
   "execution_count": null,
   "metadata": {},
   "outputs": [],
   "source": [
    "D = C.differential(\"Leave\", \"Stem\")"
   ]
  },
  {
   "cell_type": "markdown",
   "metadata": {},
   "source": [
    "## Discriminating compounds\n",
    "\n",
    "The first thing we might be interested in is the ordering of the compounds. What are the most discriminating compounds."
   ]
  },
  {
   "cell_type": "code",
   "execution_count": null,
   "metadata": {},
   "outputs": [
    {
     "data": {
      "text/html": [
       "<div>\n",
       "<style scoped>\n",
       "    .dataframe tbody tr th:only-of-type {\n",
       "        vertical-align: middle;\n",
       "    }\n",
       "\n",
       "    .dataframe tbody tr th {\n",
       "        vertical-align: top;\n",
       "    }\n",
       "\n",
       "    .dataframe thead th {\n",
       "        text-align: right;\n",
       "    }\n",
       "</style>\n",
       "<table border=\"1\" class=\"dataframe\">\n",
       "  <thead>\n",
       "    <tr style=\"text-align: right;\">\n",
       "      <th></th>\n",
       "      <th>weight</th>\n",
       "      <th>category</th>\n",
       "    </tr>\n",
       "    <tr>\n",
       "      <th>compound</th>\n",
       "      <th></th>\n",
       "      <th></th>\n",
       "    </tr>\n",
       "  </thead>\n",
       "  <tbody>\n",
       "    <tr>\n",
       "      <th>754</th>\n",
       "      <td>0.027418</td>\n",
       "      <td>Alkyl aryl ethers</td>\n",
       "    </tr>\n",
       "    <tr>\n",
       "      <th>211</th>\n",
       "      <td>0.025544</td>\n",
       "      <td>1-benzopyrans</td>\n",
       "    </tr>\n",
       "    <tr>\n",
       "      <th>202</th>\n",
       "      <td>0.025291</td>\n",
       "      <td>Anisoles</td>\n",
       "    </tr>\n",
       "    <tr>\n",
       "      <th>422</th>\n",
       "      <td>0.024609</td>\n",
       "      <td>Fatty acid esters</td>\n",
       "    </tr>\n",
       "    <tr>\n",
       "      <th>457</th>\n",
       "      <td>0.022642</td>\n",
       "      <td>Diterpene lactones</td>\n",
       "    </tr>\n",
       "    <tr>\n",
       "      <th>212</th>\n",
       "      <td>0.021107</td>\n",
       "      <td>Flavonoid O-glycosides</td>\n",
       "    </tr>\n",
       "    <tr>\n",
       "      <th>783</th>\n",
       "      <td>0.020290</td>\n",
       "      <td>Steroid esters</td>\n",
       "    </tr>\n",
       "    <tr>\n",
       "      <th>455</th>\n",
       "      <td>0.018719</td>\n",
       "      <td>1-hydroxy-2-unsubstituted benzenoids</td>\n",
       "    </tr>\n",
       "    <tr>\n",
       "      <th>456</th>\n",
       "      <td>0.018521</td>\n",
       "      <td>Diterpenoids</td>\n",
       "    </tr>\n",
       "    <tr>\n",
       "      <th>194</th>\n",
       "      <td>0.017939</td>\n",
       "      <td>Prenol lipids</td>\n",
       "    </tr>\n",
       "    <tr>\n",
       "      <th>320</th>\n",
       "      <td>0.017583</td>\n",
       "      <td>Amino acids, peptides, and analogues</td>\n",
       "    </tr>\n",
       "    <tr>\n",
       "      <th>42</th>\n",
       "      <td>0.016667</td>\n",
       "      <td>Amino acids, peptides, and analogues</td>\n",
       "    </tr>\n",
       "    <tr>\n",
       "      <th>459</th>\n",
       "      <td>0.016178</td>\n",
       "      <td>Phenols</td>\n",
       "    </tr>\n",
       "    <tr>\n",
       "      <th>500</th>\n",
       "      <td>0.016092</td>\n",
       "      <td>Prenol lipids</td>\n",
       "    </tr>\n",
       "    <tr>\n",
       "      <th>538</th>\n",
       "      <td>0.015698</td>\n",
       "      <td>Fatty acid esters</td>\n",
       "    </tr>\n",
       "    <tr>\n",
       "      <th>289</th>\n",
       "      <td>0.014994</td>\n",
       "      <td>Lineolic acids and derivatives</td>\n",
       "    </tr>\n",
       "    <tr>\n",
       "      <th>303</th>\n",
       "      <td>0.014977</td>\n",
       "      <td>Benzene and substituted derivatives</td>\n",
       "    </tr>\n",
       "    <tr>\n",
       "      <th>442</th>\n",
       "      <td>0.013923</td>\n",
       "      <td>Prenol lipids</td>\n",
       "    </tr>\n",
       "    <tr>\n",
       "      <th>784</th>\n",
       "      <td>0.013753</td>\n",
       "      <td>Triterpenoids</td>\n",
       "    </tr>\n",
       "    <tr>\n",
       "      <th>473</th>\n",
       "      <td>0.013701</td>\n",
       "      <td>Fatty Acyls</td>\n",
       "    </tr>\n",
       "  </tbody>\n",
       "</table>\n",
       "</div>"
      ],
      "text/plain": [
       "            weight                              category\n",
       "compound                                                \n",
       "754       0.027418                     Alkyl aryl ethers\n",
       "211       0.025544                         1-benzopyrans\n",
       "202       0.025291                              Anisoles\n",
       "422       0.024609                     Fatty acid esters\n",
       "457       0.022642                    Diterpene lactones\n",
       "212       0.021107                Flavonoid O-glycosides\n",
       "783       0.020290                        Steroid esters\n",
       "455       0.018719  1-hydroxy-2-unsubstituted benzenoids\n",
       "456       0.018521                          Diterpenoids\n",
       "194       0.017939                         Prenol lipids\n",
       "320       0.017583  Amino acids, peptides, and analogues\n",
       "42        0.016667  Amino acids, peptides, and analogues\n",
       "459       0.016178                               Phenols\n",
       "500       0.016092                         Prenol lipids\n",
       "538       0.015698                     Fatty acid esters\n",
       "289       0.014994        Lineolic acids and derivatives\n",
       "303       0.014977   Benzene and substituted derivatives\n",
       "442       0.013923                         Prenol lipids\n",
       "784       0.013753                         Triterpenoids\n",
       "473       0.013701                           Fatty Acyls"
      ]
     },
     "metadata": {},
     "output_type": "display_data"
    }
   ],
   "source": [
    "D.topCompounds();"
   ]
  },
  {
   "cell_type": "markdown",
   "metadata": {},
   "source": [
    "\n",
    "\n",
    "The weight column is the feature importance value defined by the random forest. The category column displays **ONE** compound category of the compound. Note, that there might be (and are) other categories, because each compound can have many categories at the same time.\n",
    "\n",
    "We should check if these compounds are really discriminating:\n"
   ]
  },
  {
   "cell_type": "code",
   "execution_count": null,
   "metadata": {},
   "outputs": [
    {
     "data": {
      "image/png": "[encoded data removed]",
      "text/plain": [
       "<Figure size 432x288 with 2 Axes>"
      ]
     },
     "metadata": {
      "needs_background": "light"
     },
     "output_type": "display_data"
    }
   ],
   "source": [
    "C.histogram(\"422\", [\"Leave\", \"Stem\"])"
   ]
  },
  {
   "cell_type": "markdown",
   "metadata": {},
   "source": [
    "I think this shows quite nice, that the first compound is, indeed, very strongly expressed in leaves but not in stems. We can get more information about this compound as usual. For example with the second compound:"
   ]
  },
  {
   "cell_type": "code",
   "execution_count": null,
   "metadata": {
    "scrolled": false
   },
   "outputs": [
    {
     "data": {
      "text/html": [
       "<h3>C<sub>21</sub>H<sub>20</sub>O<sub>7</sub> ([M+H]+)</h3><br />Zodiac Score: 57<br />Feature-ID: 211"
      ],
      "text/plain": [
       "<IPython.core.display.HTML object>"
      ]
     },
     "metadata": {},
     "output_type": "display_data"
    },
    {
     "data": {
      "text/html": [
       "<div>\n",
       "<style scoped>\n",
       "    .dataframe tbody tr th:only-of-type {\n",
       "        vertical-align: middle;\n",
       "    }\n",
       "\n",
       "    .dataframe tbody tr th {\n",
       "        vertical-align: top;\n",
       "    }\n",
       "\n",
       "    .dataframe thead th {\n",
       "        text-align: right;\n",
       "    }\n",
       "</style>\n",
       "<table border=\"1\" class=\"dataframe\">\n",
       "  <thead>\n",
       "    <tr style=\"text-align: right;\">\n",
       "      <th></th>\n",
       "      <th>#Scan#</th>\n",
       "      <th>Adduct</th>\n",
       "      <th>CAS_Number</th>\n",
       "      <th>Charge</th>\n",
       "      <th>Compound_Name</th>\n",
       "      <th>Compound_Source</th>\n",
       "      <th>Data_Collector</th>\n",
       "      <th>ExactMass</th>\n",
       "      <th>FileScanUniqueID</th>\n",
       "      <th>INCHI</th>\n",
       "      <th>...</th>\n",
       "      <th>RT_Query</th>\n",
       "      <th>SharedPeaks</th>\n",
       "      <th>Smiles</th>\n",
       "      <th>SpecCharge</th>\n",
       "      <th>SpecMZ</th>\n",
       "      <th>SpectrumFile</th>\n",
       "      <th>SpectrumID</th>\n",
       "      <th>TIC_Query</th>\n",
       "      <th>UpdateWorkflowName</th>\n",
       "      <th>tags</th>\n",
       "    </tr>\n",
       "  </thead>\n",
       "  <tbody>\n",
       "  </tbody>\n",
       "</table>\n",
       "<p>0 rows × 36 columns</p>\n",
       "</div>"
      ],
      "text/plain": [
       "Empty DataFrame\n",
       "Columns: [#Scan#, Adduct, CAS_Number, Charge, Compound_Name, Compound_Source, Data_Collector, ExactMass, FileScanUniqueID, INCHI, INCHI_AUX, Instrument, IonMode, Ion_Source, LibMZ, LibraryName, LibraryQualityString, Library_Class, MQScore, MZErrorPPM, MassDiff, NumberHits, Organism, PI, Precursor_MZ, Pubmed_ID, RT_Query, SharedPeaks, Smiles, SpecCharge, SpecMZ, SpectrumFile, SpectrumID, TIC_Query, UpdateWorkflowName, tags]\n",
       "Index: []\n",
       "\n",
       "[0 rows x 36 columns]"
      ]
     },
     "metadata": {},
     "output_type": "display_data"
    },
    {
     "data": {
      "text/html": [
       "<div>\n",
       "<style scoped>\n",
       "    .dataframe tbody tr th:only-of-type {\n",
       "        vertical-align: middle;\n",
       "    }\n",
       "\n",
       "    .dataframe tbody tr th {\n",
       "        vertical-align: top;\n",
       "    }\n",
       "\n",
       "    .dataframe thead th {\n",
       "        text-align: right;\n",
       "    }\n",
       "</style>\n",
       "<table border=\"1\" class=\"dataframe\">\n",
       "  <thead>\n",
       "    <tr style=\"text-align: right;\">\n",
       "      <th></th>\n",
       "      <th>rank</th>\n",
       "      <th>formulaRank</th>\n",
       "      <th>CSI:FingerID_Score</th>\n",
       "      <th>molecularFormula</th>\n",
       "      <th>adduct</th>\n",
       "      <th>InChIkey2D</th>\n",
       "      <th>InChI</th>\n",
       "      <th>name</th>\n",
       "      <th>smiles</th>\n",
       "      <th>xlogp</th>\n",
       "      <th>pubchemids</th>\n",
       "      <th>links</th>\n",
       "      <th>dbflags</th>\n",
       "    </tr>\n",
       "  </thead>\n",
       "  <tbody>\n",
       "    <tr>\n",
       "      <th>0</th>\n",
       "      <td>1</td>\n",
       "      <td>1</td>\n",
       "      <td>-185.309342</td>\n",
       "      <td>C19H22O7</td>\n",
       "      <td>[M + Na]+</td>\n",
       "      <td>GFXGJZPXTIBXSI</td>\n",
       "      <td>InChI=1S/C19H22O7/c1-23-14-7-11(8-15(24-2)18(1...</td>\n",
       "      <td>NaN</td>\n",
       "      <td>COC1=CC(=CC(=C1O)OC)C=CC(C2=CC(=C(C(=C2)OC)O)OC)O</td>\n",
       "      <td>NaN</td>\n",
       "      <td>70558689</td>\n",
       "      <td>PubChem:(70558689)</td>\n",
       "      <td>2</td>\n",
       "    </tr>\n",
       "    <tr>\n",
       "      <th>698</th>\n",
       "      <td>1</td>\n",
       "      <td>2</td>\n",
       "      <td>-190.164977</td>\n",
       "      <td>C21H20O7</td>\n",
       "      <td>[M + H]+</td>\n",
       "      <td>ZHOSGMVQPRUDNX</td>\n",
       "      <td>InChI=1S/C21H20O7/c1-5-27-21(23)20-18(12-6-9-1...</td>\n",
       "      <td>ethyl 3-(3,4-dimethoxyphenyl)-7-methoxy-4-oxoc...</td>\n",
       "      <td>CCOC(=O)C1=C(C(=O)C2=C(O1)C=C(C=C2)OC)C3=CC(=C...</td>\n",
       "      <td>NaN</td>\n",
       "      <td>1535623</td>\n",
       "      <td>PubChem:(1535623)</td>\n",
       "      <td>2</td>\n",
       "    </tr>\n",
       "    <tr>\n",
       "      <th>699</th>\n",
       "      <td>2</td>\n",
       "      <td>2</td>\n",
       "      <td>-196.621000</td>\n",
       "      <td>C21H20O7</td>\n",
       "      <td>[M + H]+</td>\n",
       "      <td>UKDQCIHVKSGIHE</td>\n",
       "      <td>InChI=1S/C21H20O7/c1-24-16-7-5-12(9-15(16)22)1...</td>\n",
       "      <td>5-(3-hydroxy-4-methoxyphenyl)-6-(3,5-trimethox...</td>\n",
       "      <td>COC1=C(C=C(C=C1)C2=C(OC(=O)C=C2)C3=CC(=C(C(=C3...</td>\n",
       "      <td>NaN</td>\n",
       "      <td>45028149</td>\n",
       "      <td>PubChem:(45028149)</td>\n",
       "      <td>2</td>\n",
       "    </tr>\n",
       "    <tr>\n",
       "      <th>700</th>\n",
       "      <td>3</td>\n",
       "      <td>2</td>\n",
       "      <td>-196.959834</td>\n",
       "      <td>C21H20O7</td>\n",
       "      <td>[M + H]+</td>\n",
       "      <td>QRGKPOPVNCKENP</td>\n",
       "      <td>InChI=1S/C21H20O7/c1-24-13-7-6-11(8-14(13)25-2...</td>\n",
       "      <td>NaN</td>\n",
       "      <td>COC1=C(C=C(C=C1)C2=C(C(=O)C2=O)C3=CC(=C(C(=C3)...</td>\n",
       "      <td>NaN</td>\n",
       "      <td>71740326</td>\n",
       "      <td>PubChem:(71740326);PubMed:(null)</td>\n",
       "      <td>66</td>\n",
       "    </tr>\n",
       "    <tr>\n",
       "      <th>701</th>\n",
       "      <td>4</td>\n",
       "      <td>2</td>\n",
       "      <td>-197.733645</td>\n",
       "      <td>C21H20O7</td>\n",
       "      <td>[M + H]+</td>\n",
       "      <td>XUSZWPNKUBJZAP</td>\n",
       "      <td>InChI=1S/C21H20O7/c1-24-16-7-5-12(9-15(16)22)2...</td>\n",
       "      <td>6-(3-hydroxy-4-methoxyphenyl)-5-(3,5-trimethox...</td>\n",
       "      <td>COC1=C(C=C(C=C1)C2=C(C=CC(=O)O2)C3=CC(=C(C(=C3...</td>\n",
       "      <td>NaN</td>\n",
       "      <td>45028150</td>\n",
       "      <td>PubChem:(45028150)</td>\n",
       "      <td>2</td>\n",
       "    </tr>\n",
       "    <tr>\n",
       "      <th>702</th>\n",
       "      <td>5</td>\n",
       "      <td>2</td>\n",
       "      <td>-204.584222</td>\n",
       "      <td>C21H20O7</td>\n",
       "      <td>[M + H]+</td>\n",
       "      <td>OBFSNCRETVOPCA</td>\n",
       "      <td>InChI=1S/C21H20O7/c1-24-12-6-7-13(14(10-12)25-...</td>\n",
       "      <td>NaN</td>\n",
       "      <td>COC1=CC(=C(C=C1)C2=C(C(=O)C2=O)C3=CC(=C(C(=C3)...</td>\n",
       "      <td>NaN</td>\n",
       "      <td>52939859</td>\n",
       "      <td>PubChem:(52939859);PubMed:(null)</td>\n",
       "      <td>66</td>\n",
       "    </tr>\n",
       "    <tr>\n",
       "      <th>1</th>\n",
       "      <td>2</td>\n",
       "      <td>1</td>\n",
       "      <td>-205.276680</td>\n",
       "      <td>C19H22O7</td>\n",
       "      <td>[M + Na]+</td>\n",
       "      <td>BIRARLRIACWDPF</td>\n",
       "      <td>InChI=1S/C19H22O7/c1-22-13-7-5-12(6-8-13)15(11...</td>\n",
       "      <td>NaN</td>\n",
       "      <td>COC1=CC=C(C=C1)C(CC(=O)O)OC2=CC(=C(C(=C2)OC)OC)OC</td>\n",
       "      <td>NaN</td>\n",
       "      <td>NaN</td>\n",
       "      <td>KEGG Mine:(null)</td>\n",
       "      <td>8589934592</td>\n",
       "    </tr>\n",
       "    <tr>\n",
       "      <th>703</th>\n",
       "      <td>6</td>\n",
       "      <td>2</td>\n",
       "      <td>-205.779530</td>\n",
       "      <td>C21H20O7</td>\n",
       "      <td>[M + H]+</td>\n",
       "      <td>NKWCMWFBICKMQI</td>\n",
       "      <td>InChI=1S/C21H20O7/c1-11-19(13-5-8-16(25-3)18(9...</td>\n",
       "      <td>2-[3-(3,4-dimethoxyphenyl)-2-methyl-4-oxochrom...</td>\n",
       "      <td>CC1=C(C(=O)C2=C(O1)C=C(C=C2)OC(C)C(=O)O)C3=CC(...</td>\n",
       "      <td>NaN</td>\n",
       "      <td>1522920;1522921;3471276;4275670;7084155;7084157</td>\n",
       "      <td>PubChem:(1522920 1522921 3471276 4275670 70841...</td>\n",
       "      <td>8194</td>\n",
       "    </tr>\n",
       "    <tr>\n",
       "      <th>2</th>\n",
       "      <td>3</td>\n",
       "      <td>1</td>\n",
       "      <td>-206.769718</td>\n",
       "      <td>C19H22O7</td>\n",
       "      <td>[M + Na]+</td>\n",
       "      <td>DIINAMFCGGCFPQ</td>\n",
       "      <td>InChI=1S/C19H22O7/c1-22-13-5-7-14(8-6-13)26-11...</td>\n",
       "      <td>NaN</td>\n",
       "      <td>COC1=CC=C(C=C1)OCC(C2=CC(=C(C(=C2)OC)OC)OC)C(=O)O</td>\n",
       "      <td>NaN</td>\n",
       "      <td>101077077</td>\n",
       "      <td>PubChem:(101077077)</td>\n",
       "      <td>2</td>\n",
       "    </tr>\n",
       "    <tr>\n",
       "      <th>704</th>\n",
       "      <td>7</td>\n",
       "      <td>2</td>\n",
       "      <td>-207.466892</td>\n",
       "      <td>C21H20O7</td>\n",
       "      <td>[M + H]+</td>\n",
       "      <td>BZGDDFBUSQKYAM</td>\n",
       "      <td>InChI=1S/C21H20O7/c1-11-20(15-9-18(25-4)19(26-...</td>\n",
       "      <td>2-Methyl-7-acetoxy-2'',4'',5''-trimethoxy-isof...</td>\n",
       "      <td>CC1=C(C(=O)C2=C(O1)C=C(C=C2)OC(=O)C)C3=CC(=C(C...</td>\n",
       "      <td>NaN</td>\n",
       "      <td>633456</td>\n",
       "      <td>PubChem:(633456)</td>\n",
       "      <td>2</td>\n",
       "    </tr>\n",
       "  </tbody>\n",
       "</table>\n",
       "</div>"
      ],
      "text/plain": [
       "     rank  formulaRank  CSI:FingerID_Score molecularFormula     adduct  \\\n",
       "0       1            1         -185.309342         C19H22O7  [M + Na]+   \n",
       "698     1            2         -190.164977         C21H20O7   [M + H]+   \n",
       "699     2            2         -196.621000         C21H20O7   [M + H]+   \n",
       "700     3            2         -196.959834         C21H20O7   [M + H]+   \n",
       "701     4            2         -197.733645         C21H20O7   [M + H]+   \n",
       "702     5            2         -204.584222         C21H20O7   [M + H]+   \n",
       "1       2            1         -205.276680         C19H22O7  [M + Na]+   \n",
       "703     6            2         -205.779530         C21H20O7   [M + H]+   \n",
       "2       3            1         -206.769718         C19H22O7  [M + Na]+   \n",
       "704     7            2         -207.466892         C21H20O7   [M + H]+   \n",
       "\n",
       "         InChIkey2D                                              InChI  \\\n",
       "0    GFXGJZPXTIBXSI  InChI=1S/C19H22O7/c1-23-14-7-11(8-15(24-2)18(1...   \n",
       "698  ZHOSGMVQPRUDNX  InChI=1S/C21H20O7/c1-5-27-21(23)20-18(12-6-9-1...   \n",
       "699  UKDQCIHVKSGIHE  InChI=1S/C21H20O7/c1-24-16-7-5-12(9-15(16)22)1...   \n",
       "700  QRGKPOPVNCKENP  InChI=1S/C21H20O7/c1-24-13-7-6-11(8-14(13)25-2...   \n",
       "701  XUSZWPNKUBJZAP  InChI=1S/C21H20O7/c1-24-16-7-5-12(9-15(16)22)2...   \n",
       "702  OBFSNCRETVOPCA  InChI=1S/C21H20O7/c1-24-12-6-7-13(14(10-12)25-...   \n",
       "1    BIRARLRIACWDPF  InChI=1S/C19H22O7/c1-22-13-7-5-12(6-8-13)15(11...   \n",
       "703  NKWCMWFBICKMQI  InChI=1S/C21H20O7/c1-11-19(13-5-8-16(25-3)18(9...   \n",
       "2    DIINAMFCGGCFPQ  InChI=1S/C19H22O7/c1-22-13-5-7-14(8-6-13)26-11...   \n",
       "704  BZGDDFBUSQKYAM  InChI=1S/C21H20O7/c1-11-20(15-9-18(25-4)19(26-...   \n",
       "\n",
       "                                                  name  \\\n",
       "0                                                  NaN   \n",
       "698  ethyl 3-(3,4-dimethoxyphenyl)-7-methoxy-4-oxoc...   \n",
       "699  5-(3-hydroxy-4-methoxyphenyl)-6-(3,5-trimethox...   \n",
       "700                                                NaN   \n",
       "701  6-(3-hydroxy-4-methoxyphenyl)-5-(3,5-trimethox...   \n",
       "702                                                NaN   \n",
       "1                                                  NaN   \n",
       "703  2-[3-(3,4-dimethoxyphenyl)-2-methyl-4-oxochrom...   \n",
       "2                                                  NaN   \n",
       "704  2-Methyl-7-acetoxy-2'',4'',5''-trimethoxy-isof...   \n",
       "\n",
       "                                                smiles  xlogp  \\\n",
       "0    COC1=CC(=CC(=C1O)OC)C=CC(C2=CC(=C(C(=C2)OC)O)OC)O    NaN   \n",
       "698  CCOC(=O)C1=C(C(=O)C2=C(O1)C=C(C=C2)OC)C3=CC(=C...    NaN   \n",
       "699  COC1=C(C=C(C=C1)C2=C(OC(=O)C=C2)C3=CC(=C(C(=C3...    NaN   \n",
       "700  COC1=C(C=C(C=C1)C2=C(C(=O)C2=O)C3=CC(=C(C(=C3)...    NaN   \n",
       "701  COC1=C(C=C(C=C1)C2=C(C=CC(=O)O2)C3=CC(=C(C(=C3...    NaN   \n",
       "702  COC1=CC(=C(C=C1)C2=C(C(=O)C2=O)C3=CC(=C(C(=C3)...    NaN   \n",
       "1    COC1=CC=C(C=C1)C(CC(=O)O)OC2=CC(=C(C(=C2)OC)OC)OC    NaN   \n",
       "703  CC1=C(C(=O)C2=C(O1)C=C(C=C2)OC(C)C(=O)O)C3=CC(...    NaN   \n",
       "2    COC1=CC=C(C=C1)OCC(C2=CC(=C(C(=C2)OC)OC)OC)C(=O)O    NaN   \n",
       "704  CC1=C(C(=O)C2=C(O1)C=C(C=C2)OC(=O)C)C3=CC(=C(C...    NaN   \n",
       "\n",
       "                                          pubchemids  \\\n",
       "0                                           70558689   \n",
       "698                                          1535623   \n",
       "699                                         45028149   \n",
       "700                                         71740326   \n",
       "701                                         45028150   \n",
       "702                                         52939859   \n",
       "1                                                NaN   \n",
       "703  1522920;1522921;3471276;4275670;7084155;7084157   \n",
       "2                                          101077077   \n",
       "704                                           633456   \n",
       "\n",
       "                                                 links     dbflags  \n",
       "0                                   PubChem:(70558689)           2  \n",
       "698                                  PubChem:(1535623)           2  \n",
       "699                                 PubChem:(45028149)           2  \n",
       "700                   PubChem:(71740326);PubMed:(null)          66  \n",
       "701                                 PubChem:(45028150)           2  \n",
       "702                   PubChem:(52939859);PubMed:(null)          66  \n",
       "1                                     KEGG Mine:(null)  8589934592  \n",
       "703  PubChem:(1522920 1522921 3471276 4275670 70841...        8194  \n",
       "2                                  PubChem:(101077077)           2  \n",
       "704                                   PubChem:(633456)           2  "
      ]
     },
     "metadata": {},
     "output_type": "display_data"
    },
    {
     "data": {
      "text/html": [
       "<li><span title='Constitutionally or isotopically distinct atoms, molecules, ions, ion pairs, radicals, radical ions, complexes, conformers etc., identifiable as a separately distinguishable entity.'><span style='font-weight:bold'>Chemical entities</span><span style='margin-left:15pt;font-weight:bold'>100 %</span></span><ul><li><span title='Compounds that contain at least carbon atom, excluding isocyanide/cyanide and their non-hydrocarbyl derivatives, thiophosgene, carbon diselenide, carbon monosulfide, carbon disulfide, carbon subsulfide, carbon monoxide, carbon trioxide, Carbon suboxide, and dicarbon monoxide.'><span style='font-weight:italic'>Organic compounds</span><span style='margin-left:15pt;font-weight:italic'></span></span><ul><li><span title='Compounds containing a ring with least one carbon atom and one non-carbon atom.'><span style='font-weight:bold'>Organoheterocyclic compounds</span><span style='margin-left:15pt;font-weight:bold'>97 %</span></span><ul><li><span title='Cyclic esters of hydroxy carboxylic acids, containing a 1-oxacycloalkan-2-one structure, or analogues having unsaturation or heteroatoms replacing one or more carbon atoms of the ring.'><span style='font-weight:bold'>Lactones</span><span style='margin-left:15pt;font-weight:bold'>64 %</span></span></li><li><span title='Organic compounds containing a benzene ring fused to a pyran ring. Pyran a six-membered heterocyclic, non-aromatic ring, made up of five carbon atoms and one oxygen atom and containing two double bonds.'><span style='font-weight:bold'>Benzopyrans</span><span style='margin-left:15pt;font-weight:bold'>68 %</span></span><ul><li><span title='Organic aromatic compounds that 1-benzopyran, a bicyclic compound made up of a benzene ring fused to a pyran, so that the oxygen atom is at the 1-position.'><span style='font-weight:bold'>1-benzopyrans</span><span style='margin-left:15pt;font-weight:bold'>71 %</span></span><ul><li><span title='Compounds containing a benzopyran-4-one moiety.'><span style='font-weight:italic'>Chromones</span><span style='margin-left:15pt;font-weight:italic'>48 %</span></span></li></ul></li></ul></li><li><span title='Organic compounds containing an heterocycle with at least one oxygen atom linked to a ring carbon.'><span style='font-weight:bold'>Oxacyclic compounds</span><span style='margin-left:15pt;font-weight:bold'>95 %</span></span></li></ul></li><li><span title='Organic compounds that are synthesized either from the amino acid phenylalanine (phenylpropanoids) or the decarboxylative condensation of malonyl-CoA (polyketides). Phenylpropanoids are aromatic compounds based on the phenylpropane skeleton. Polyketides usually consist of alternating carbonyl and methylene groups (beta-polyketones), biogenetically derived from repeated condensation of acetyl coenzyme A (via malonyl coenzyme A), and usually the compounds derived from them by further condensations.'><span style='font-weight:bold'>Phenylpropanoids and polyketides</span><span style='margin-left:15pt;font-weight:bold'>87 %</span></span><ul><li><span title='Polycyclic aromatic compounds containing a 1-benzopyran moiety with a ketone group at the C2 carbon atom (1-benzopyran-2-one).'><span style='font-weight:italic'>Coumarins and derivatives</span><span style='margin-left:15pt;font-weight:italic'>33 %</span></span></li><li><span title='Plant secondary metabolites that contain the 2-phenylchromene skeleton. Plant secondary metabolites that contain the 2-phenylchromene skeleton.'><span style='font-weight:italic'>Flavonoids</span><span style='margin-left:15pt;font-weight:italic'>31 %</span></span><ul><li><span title='Flavonoids with methoxy groups conjugated to the flavonoid backbone.'><span style='font-weight:italic'>O-methylated flavonoids</span><span style='margin-left:15pt;font-weight:italic'>34 %</span></span><ul><li><span title='Flavonoids with methoxy groups attached to the C4' atom of the flavonoid backbone.'><span style='font-weight:italic'>4'-O-methylated flavonoids</span><span style='margin-left:15pt;font-weight:italic'>28 %</span></span></li></ul></li><li><span title='Flavonoids in which one or more hydroxyl groups are attached to the flavonoid skeleton.'><span style='font-weight:italic'>Hydroxyflavonoids</span><span style='margin-left:15pt;font-weight:italic'>32 %</span></span><ul><li><span title='Flavonoids that bear one hydroxyl group at the C-3 position of the flavonoid skeleton.'><span style='font-weight:italic'>3-hydroxyflavonoids</span><span style='margin-left:15pt;font-weight:italic'>26 %</span></span></li></ul></li></ul></li><li><span title='Natural products derived from 3-phenylchromen-4-one.'><span style='font-weight:italic'>Isoflavonoids</span><span style='margin-left:15pt;font-weight:italic'>36 %</span></span></li></ul></li><li><span title='Compounds an organic acid or a derivative thereof.'><span style='font-weight:bold'>Organic acids and derivatives</span><span style='margin-left:15pt;font-weight:bold'>63 %</span></span><ul><li><span title='Compounds containing a carboxylic acid group with the formula -C(=O)OH or a derivative thereof.'><span style='font-weight:bold'>Carboxylic acids and derivatives</span><span style='margin-left:15pt;font-weight:bold'>53 %</span></span><ul><li><span title='Derivatives of carboxylic acid.'><span style='font-weight:bold'>Carboxylic acid derivatives</span><span style='margin-left:15pt;font-weight:bold'>57 %</span></span><ul><li><span title='Carboxylic acid derivatives in which the carbon atom from the carbonyl group is attached to an alkyl or an aryl moiety through an oxygen atom (forming an ester group).'><span style='font-weight:bold'>Carboxylic acid esters</span><span style='margin-left:15pt;font-weight:bold'>53 %</span></span></li></ul></li><li><span title='Carboxylic acids containing exactly one carboxyl groups.'><span style='font-weight:bold'>Monocarboxylic acids and derivatives</span><span style='margin-left:15pt;font-weight:bold'>61 %</span></span></li></ul></li><li><span title='Organic compounds containing a hydroxyl group, which is indirectly attached to a carbonyl via an intervening vinyl (>C=C<) moiety.'><span style='font-weight:italic'>Vinylogous acids</span><span style='margin-left:15pt;font-weight:italic'>28 %</span></span></li></ul></li><li><span title='Aromatic compounds containing one or more benzene rings.'><span style='font-weight:bold'>Benzenoids</span><span style='margin-left:15pt;font-weight:bold'>98 %</span></span><ul><li><span title='Compounds containing a phenol moiety, which is a benzene bearing a hydroxyl group.'><span style='font-weight:italic'>Phenols</span><span style='margin-left:15pt;font-weight:italic'>35 %</span></span><ul><li><span title='Phenols that a unsubstituted at the 2-position.'><span style='font-weight:italic'>1-hydroxy-2-unsubstituted benzenoids</span><span style='margin-left:15pt;font-weight:italic'>34 %</span></span></li></ul></li><li><span title='Aromatic compounds containing one monocyclic ring system consisting of benzene.'><span style='font-weight:bold'>Benzene and substituted derivatives</span><span style='margin-left:15pt;font-weight:bold'>57 %</span></span><ul><li><span title='Organic aromatic compounds containing a monocyclic benzene moiety carrying exactly or one more methoxy groups.'><span style='font-weight:bold'>Methoxybenzenes</span><span style='margin-left:15pt;font-weight:bold'>56 %</span></span><ul><li><span title='Organic aromatic compounds containing a monocyclic benzene moiety carrying exactly two methoxy groups.'><span style='font-weight:italic'>Dimethoxybenzenes</span><span style='margin-left:15pt;font-weight:italic'>27 %</span></span></li></ul></li><li><span title='Aromatic compounds contaning a phenoxy group.'><span style='font-weight:bold'>Phenoxy compounds</span><span style='margin-left:15pt;font-weight:bold'>56 %</span></span></li></ul></li><li><span title='Aromatic compounds containing an ether group substituted with a benzene ring.'><span style='font-weight:bold'>Phenol ethers</span><span style='margin-left:15pt;font-weight:bold'>79 %</span></span><ul><li><span title='Organic compounds containing a methoxybenzene or a derivative thereof.'><span style='font-weight:bold'>Anisoles</span><span style='margin-left:15pt;font-weight:bold'>81 %</span></span></li></ul></li></ul></li><li><span title='Organic compounds that contain one or more oxygen atoms.'><span style='font-weight:italic'>Organic oxygen compounds</span><span style='margin-left:15pt;font-weight:italic'></span></span><ul><li><span title='Organic compounds containing a bond between a carbon atom and an oxygen atom.'><span style='font-weight:italic'>Organooxygen compounds</span><span style='margin-left:15pt;font-weight:italic'></span></span><ul><li><span title='Organic compounds in which at least one hydroxyl functional group (-OH) is bound to a carbon atom, usually connected to other carbon or hydrogen atoms.'><span style='font-weight:italic'>Alcohols and polyols</span><span style='margin-left:15pt;font-weight:italic'>31 %</span></span></li><li><span title='Compounds bearing an ether group with the formula Compounds ROR (R not H).'><span style='font-weight:bold'>Ethers</span><span style='margin-left:15pt;font-weight:bold'>97 %</span></span><ul><li><span title='Organic compounds containing the alkyl aryl ether functional group with the generic formula R-O-R' , where R is an alkyl group and R' is an aryl group.'><span style='font-weight:bold'>Alkyl aryl ethers</span><span style='margin-left:15pt;font-weight:bold'>84 %</span></span></li><li><span title='Compounds comprising the hemiacetal functional group, with the general formula R2C(OH)OR' ( R' not Hydrogen ).'><span style='font-weight:italic'>Hemiacetals</span><span style='margin-left:15pt;font-weight:italic'>30 %</span></span></li><li><span title='Compounds having the structure R2C(OR')2 ( R' not Hydrogen) and thus diethers of geminal diols. Originally, the term was confined to derivatives of aldehydes (one R = H), but it now applies equally to derivatives of ketones (neither R = H ). Mixed acetals have different R' groups.'><span style='font-weight:bold'>Acetals</span><span style='margin-left:15pt;font-weight:bold'>56 %</span></span></li></ul></li><li><span title='Organic compounds containing a carbonyl group, with the general structure RC(=O)R', where R=organyl, R'=H, N, O, organyl group or halide group.'><span style='font-weight:bold'>Carbonyl compounds</span><span style='margin-left:15pt;font-weight:bold'>89 %</span></span><ul><li><span title='Organic compounds  in which a carbonyl group is bonded to two carbon atoms R2C=O (neither R may be a hydrogen atom). Ketones that have one or more alpha-hydrogen atoms undergo keto-enol tautomerization, the tautomer being an enol.'><span style='font-weight:bold'>Ketones</span><span style='margin-left:15pt;font-weight:bold'>73 %</span></span><ul><li><span title='Organic aromatic compounds that contain a ketone group substituted at one C-atom with an aryl group. They have the generic structure RC(=O)R', where R = aryl group and R'=organyl group.'><span style='font-weight:bold'>Aryl ketones</span><span style='margin-left:15pt;font-weight:bold'>68 %</span></span><ul><li><span title='Ketones have the generic structure RC(=O)R', where R = aryl group and R'=alkyl group.'><span style='font-weight:italic'>Aryl alkyl ketones</span><span style='margin-left:15pt;font-weight:italic'>46 %</span></span></li></ul></li></ul></li></ul></li></ul></li><li><span title='Organic compounds containing an oxide group.'><span style='font-weight:bold'>Organic oxides</span><span style='margin-left:15pt;font-weight:bold'>97 %</span></span></li></ul></li></ul></li></ul></li>"
      ],
      "text/plain": [
       "<IPython.core.display.HTML object>"
      ]
     },
     "metadata": {},
     "output_type": "display_data"
    },
    {
     "data": {
      "image/png": "[encoded data removed]",
      "text/plain": [
       "<Figure size 432x288 with 2 Axes>"
      ]
     },
     "metadata": {
      "needs_background": "light"
     },
     "output_type": "display_data"
    }
   ],
   "source": [
    "C.describe(211)"
   ]
  },
  {
   "cell_type": "markdown",
   "metadata": {},
   "source": [
    "## Discriminating compound categories\n",
    "\n",
    "Now we want to know: what are the most differentiating compound categories."
   ]
  },
  {
   "cell_type": "code",
   "execution_count": null,
   "metadata": {},
   "outputs": [
    {
     "data": {
      "text/html": [
       "<div>\n",
       "<style scoped>\n",
       "    .dataframe tbody tr th:only-of-type {\n",
       "        vertical-align: middle;\n",
       "    }\n",
       "\n",
       "    .dataframe tbody tr th {\n",
       "        vertical-align: top;\n",
       "    }\n",
       "\n",
       "    .dataframe thead th {\n",
       "        text-align: right;\n",
       "    }\n",
       "</style>\n",
       "<table border=\"1\" class=\"dataframe\">\n",
       "  <thead>\n",
       "    <tr style=\"text-align: right;\">\n",
       "      <th></th>\n",
       "      <th>pvalue</th>\n",
       "    </tr>\n",
       "  </thead>\n",
       "  <tbody>\n",
       "    <tr>\n",
       "      <th>Acetals</th>\n",
       "      <td>0.000108</td>\n",
       "    </tr>\n",
       "    <tr>\n",
       "      <th>Aryl ketones</th>\n",
       "      <td>0.000489</td>\n",
       "    </tr>\n",
       "    <tr>\n",
       "      <th>Ketones</th>\n",
       "      <td>0.000714</td>\n",
       "    </tr>\n",
       "    <tr>\n",
       "      <th>Ethers</th>\n",
       "      <td>0.001087</td>\n",
       "    </tr>\n",
       "    <tr>\n",
       "      <th>Catechols</th>\n",
       "      <td>0.001905</td>\n",
       "    </tr>\n",
       "    <tr>\n",
       "      <th>Carbonyl compounds</th>\n",
       "      <td>0.002690</td>\n",
       "    </tr>\n",
       "    <tr>\n",
       "      <th>Lignans, neolignans and related compounds</th>\n",
       "      <td>0.003075</td>\n",
       "    </tr>\n",
       "    <tr>\n",
       "      <th>Glycosyl compounds</th>\n",
       "      <td>0.004050</td>\n",
       "    </tr>\n",
       "    <tr>\n",
       "      <th>Carboxylic acid esters</th>\n",
       "      <td>0.004404</td>\n",
       "    </tr>\n",
       "    <tr>\n",
       "      <th>Aryl alkyl ketones</th>\n",
       "      <td>0.006766</td>\n",
       "    </tr>\n",
       "    <tr>\n",
       "      <th>Oxacyclic compounds</th>\n",
       "      <td>0.007426</td>\n",
       "    </tr>\n",
       "    <tr>\n",
       "      <th>Benzenediols</th>\n",
       "      <td>0.009160</td>\n",
       "    </tr>\n",
       "    <tr>\n",
       "      <th>Furanoid lignans</th>\n",
       "      <td>0.009930</td>\n",
       "    </tr>\n",
       "    <tr>\n",
       "      <th>Polyols</th>\n",
       "      <td>0.010221</td>\n",
       "    </tr>\n",
       "    <tr>\n",
       "      <th>O-glycosyl compounds</th>\n",
       "      <td>0.010775</td>\n",
       "    </tr>\n",
       "    <tr>\n",
       "      <th>3'-hydroxyflavonoids</th>\n",
       "      <td>0.013411</td>\n",
       "    </tr>\n",
       "    <tr>\n",
       "      <th>1-hydroxy-4-unsubstituted benzenoids</th>\n",
       "      <td>0.016161</td>\n",
       "    </tr>\n",
       "    <tr>\n",
       "      <th>Benzoyl derivatives</th>\n",
       "      <td>0.016354</td>\n",
       "    </tr>\n",
       "    <tr>\n",
       "      <th>Lactones</th>\n",
       "      <td>0.017871</td>\n",
       "    </tr>\n",
       "    <tr>\n",
       "      <th>Chromones</th>\n",
       "      <td>0.024532</td>\n",
       "    </tr>\n",
       "  </tbody>\n",
       "</table>\n",
       "</div>"
      ],
      "text/plain": [
       "                                             pvalue\n",
       "Acetals                                    0.000108\n",
       "Aryl ketones                               0.000489\n",
       "Ketones                                    0.000714\n",
       "Ethers                                     0.001087\n",
       "Catechols                                  0.001905\n",
       "Carbonyl compounds                         0.002690\n",
       "Lignans, neolignans and related compounds  0.003075\n",
       "Glycosyl compounds                         0.004050\n",
       "Carboxylic acid esters                     0.004404\n",
       "Aryl alkyl ketones                         0.006766\n",
       "Oxacyclic compounds                        0.007426\n",
       "Benzenediols                               0.009160\n",
       "Furanoid lignans                           0.009930\n",
       "Polyols                                    0.010221\n",
       "O-glycosyl compounds                       0.010775\n",
       "3'-hydroxyflavonoids                       0.013411\n",
       "1-hydroxy-4-unsubstituted benzenoids       0.016161\n",
       "Benzoyl derivatives                        0.016354\n",
       "Lactones                                   0.017871\n",
       "Chromones                                  0.024532"
      ]
     },
     "metadata": {},
     "output_type": "display_data"
    }
   ],
   "source": [
    "D.topCategories();"
   ]
  },
  {
   "cell_type": "markdown",
   "metadata": {},
   "source": [
    "It is the same idea, this time with compound categories. The p-value column is the output of the permutation test (I haven't added a correction, though, so don't take this value serious).\n",
    "\n",
    "We might now wonder if Naphthalenes are really differential expressed in both classes. We can use heatmaps to find out:"
   ]
  },
  {
   "cell_type": "code",
   "execution_count": null,
   "metadata": {},
   "outputs": [
    {
     "data": {
      "image/png": "[encoded data removed]",
      "text/plain": [
       "<Figure size 432x288 with 3 Axes>"
      ]
     },
     "metadata": {
      "needs_background": "light"
     },
     "output_type": "display_data"
    }
   ],
   "source": [
    "C.heatmap(\"Naphthalenes\")"
   ]
  },
  {
   "cell_type": "markdown",
   "metadata": {},
   "source": [
    "The rows in this plot are the compounds, the columns are the samples. The color coding goes from low intensity (dark blue) to high intensity (yellow).\n",
    "\n",
    "Okay, we see that there are many compounds in Stem belonging to the Naphthalenes class and which are lower expressed in leave and vice versa.\n",
    "\n",
    "What are the other methods for discrimination? First, we can use random forest on the normalization data using the \"forest\" keyword. With the \"fold_change\" keyword we look for classes which are differential expressed just by looking at the trimmed mean fold change between the samples."
   ]
  },
  {
   "cell_type": "code",
   "execution_count": null,
   "metadata": {},
   "outputs": [],
   "source": [
    "D = C.differential(\"Flower\", method=\"fold_change\")"
   ]
  },
  {
   "cell_type": "code",
   "execution_count": null,
   "metadata": {},
   "outputs": [],
   "source": [
    "D.topCategories();"
   ]
  },
  {
   "cell_type": "code",
   "execution_count": null,
   "metadata": {},
   "outputs": [],
   "source": [
    "C.heatmap(\"Phenoxy compounds\")"
   ]
  },
  {
   "cell_type": "markdown",
   "metadata": {},
   "source": [
    "We see that Phenoxy compounds are less expressed in flowers than in leaves and stem. But what are the categories that are highly expressed in flowers? To find that out, we can use the \"highest_expression\" keyword."
   ]
  },
  {
   "cell_type": "code",
   "execution_count": null,
   "metadata": {},
   "outputs": [],
   "source": [
    "D = C.differential(\"Flower\", method=\"highest_expression\")\n",
    "D.topCategories();"
   ]
  },
  {
   "cell_type": "code",
   "execution_count": null,
   "metadata": {},
   "outputs": [],
   "source": [
    "C.heatmap(\"Fatty amides\")"
   ]
  },
  {
   "cell_type": "markdown",
   "metadata": {},
   "source": [
    "## Using autocompletion for compound names, category names and conditions\n",
    "\n",
    "If you want to know the expression of a certain category, you can use the autocompletion of Jupyter notebook. Let us assume we want to make a heatmap of flavonoids, but we do not exactly know how this category is written. We can just write\n",
    "\n",
    "`C[\"Fl`\n",
    "\n",
    "and then press [TAB] and the remaining name is autocompleted. This is also working with conditions and compound ids."
   ]
  },
  {
   "cell_type": "markdown",
   "metadata": {},
   "source": [
    "# Molecular Network analysis\n",
    "\n",
    "In the following we take a look how we can take advantage from the GNPS molecular networking information.\n",
    "\n",
    "First, we can query the GNPS hits by compound categories (although that is not very exciting):"
   ]
  },
  {
   "cell_type": "code",
   "execution_count": null,
   "metadata": {},
   "outputs": [],
   "source": [
    "C.gnpsHit(category=\"Flavonoids\");"
   ]
  },
  {
   "cell_type": "markdown",
   "metadata": {},
   "source": [
    "Note that the query is using the canopus annotations for the category. Thus, all GNPS hits in this table are annotated by CANOPUS as Flavonoids.\n",
    "\n",
    "Now, let us take a look into the molecular networks themself:"
   ]
  },
  {
   "cell_type": "code",
   "execution_count": null,
   "metadata": {},
   "outputs": [],
   "source": [
    "C.molecularNetwork()"
   ]
  },
  {
   "cell_type": "markdown",
   "metadata": {},
   "source": [
    "The first view shows the complete network, but it is currently too large to be useful. So we should click first on the Display subnetwork button below. Now we can scroll through all the GNPS networks for this dataset. The majority category above tells us which compound category is dominant in this cluster. Furthermore, all nodes belonging to this category are highlighted red. We can also click on a node and see its classification.\n",
    "\n",
    "If we click on the name of any compound class, the highlighting changes such that we see which nodes belong to this class. We can inspect the original network by clicking on the view network in GNPS link below.\n",
    "\n",
    "Note that the Majority Class is currently very primitive: it just uses the class deepest in the tree which occurs for more than 50% of the network. However, often this is not the most interesting class.\n",
    "\n",
    "GNPS hits are highlighted in orange. So, click through the network to find a cluster which is not annotated yet! This might be the interesting one where canopus annotation can help.\n"
   ]
  },
  {
   "cell_type": "markdown",
   "metadata": {},
   "source": [
    "## Explore data with Cytoscape\n",
    "\n",
    "The builtin network viewer is rather simple. For a better exploration of the network we recommend the Cytoscape software. To convert the CANOPUS results into a graphml file, use the **exportCytoscape** function. We can call this function with a list of manually selected class names, or let CANOPUS decide which classes might be interesting for annotation. GraphML files are table based, while ClassyFire annotations are a directed acyclic graph. So we need some way for assigning single classes to a node, although reality is more complex. For best visualuation results we recommend to manually assign useful compound classes."
   ]
  },
  {
   "cell_type": "code",
   "execution_count": null,
   "metadata": {},
   "outputs": [],
   "source": [
    "C.exportCytoscape(\"file1.graphml\")\n",
    "C.exportCytoscape(\"file2.graphml\", [C[\"Prenol lipids\"], C[\"Flavonoids\"], C[\"Amino acids, peptides, and analogues\"], \n",
    "                                    C[\"Benzene and substituted derivatives\"]])"
   ]
  },
  {
   "cell_type": "code",
   "execution_count": null,
   "metadata": {},
   "outputs": [],
   "source": []
  }
 ],
 "metadata": {
  "kernelspec": {
   "display_name": "Python 3",
   "language": "python",
   "name": "python3"
  },
  "language_info": {
   "codemirror_mode": {
    "name": "ipython",
    "version": 3
   },
   "file_extension": ".py",
   "mimetype": "text/x-python",
   "name": "python",
   "nbconvert_exporter": "python",
   "pygments_lexer": "ipython3",
   "version": "3.7.3"
  },
  "latex_envs": {
   "LaTeX_envs_menu_present": true,
   "autoclose": false,
   "autocomplete": true,
   "bibliofile": "/home/kaidu/texmf/bibtex/bib/bibtex/group-literature.bib",
   "cite_by": "apalike",
   "current_citInitial": 1,
   "eqLabelWithNumbers": true,
   "eqNumInitial": 1,
   "hotkeys": {
    "equation": "Ctrl-E",
    "itemize": "Ctrl-I"
   },
   "labels_anchors": false,
   "latex_user_defs": false,
   "report_style_numbering": false,
   "user_envs_cfg": false
  },
  "toc": {
   "base_numbering": 1,
   "nav_menu": {},
   "number_sections": true,
   "sideBar": true,
   "skip_h1_title": false,
   "title_cell": "Table of Contents",
   "title_sidebar": "Contents",
   "toc_cell": false,
   "toc_position": {},
   "toc_section_display": true,
   "toc_window_display": false
  },
  "varInspector": {
   "cols": {
    "lenName": 16,
    "lenType": 16,
    "lenVar": 40
   },
   "kernels_config": {
    "python": {
     "delete_cmd_postfix": "",
     "delete_cmd_prefix": "del ",
     "library": "var_list.py",
     "varRefreshCmd": "print(var_dic_list())"
    },
    "r": {
     "delete_cmd_postfix": ") ",
     "delete_cmd_prefix": "rm(",
     "library": "var_list.r",
     "varRefreshCmd": "cat(var_dic_list()) "
    }
   },
   "types_to_exclude": [
    "module",
    "function",
    "builtin_function_or_method",
    "instance",
    "_Feature"
   ],
   "window_display": false
  }
 },
 "nbformat": 4,
 "nbformat_minor": 2
}
